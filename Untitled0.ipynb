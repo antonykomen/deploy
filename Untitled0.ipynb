{
  "cells": [
    {
      "cell_type": "code",
      "execution_count": 21,
      "metadata": {
        "id": "b_L6u2hxgHbo"
      },
      "outputs": [],
      "source": [
        "import numpy as np\n",
        "import pandas as pd\n",
        "import matplotlib.pyplot as plt\n",
        "import seaborn as sns\n",
        "import warnings\n",
        "warnings.filterwarnings('ignore')\n",
        "import os\n"
      ]
    },
    {
      "cell_type": "code",
      "source": [],
      "metadata": {
        "id": "v6Kbiq2Jw8vh"
      },
      "execution_count": 21,
      "outputs": []
    },
    {
      "cell_type": "code",
      "execution_count": 22,
      "metadata": {
        "id": "j3sgJXEem2i3"
      },
      "outputs": [],
      "source": [
        "\n",
        "df = pd.read_csv('/loan_train.csv')"
      ]
    },
    {
      "cell_type": "code",
      "execution_count": 23,
      "metadata": {
        "colab": {
          "base_uri": "https://localhost:8080/"
        },
        "id": "rAP3AoiYpQyp",
        "outputId": "45ef5eb4-27bc-41d5-c338-ea5820d6048f"
      },
      "outputs": [
        {
          "output_type": "stream",
          "name": "stdout",
          "text": [
            "<class 'pandas.core.frame.DataFrame'>\n",
            "RangeIndex: 614 entries, 0 to 613\n",
            "Data columns (total 12 columns):\n",
            " #   Column              Non-Null Count  Dtype  \n",
            "---  ------              --------------  -----  \n",
            " 0   Gender              601 non-null    object \n",
            " 1   Married             611 non-null    object \n",
            " 2   Dependents          599 non-null    object \n",
            " 3   Education           614 non-null    object \n",
            " 4   Self_Employed       582 non-null    object \n",
            " 5   Applicant_Income    614 non-null    int64  \n",
            " 6   Coapplicant_Income  614 non-null    float64\n",
            " 7   Loan_Amount         614 non-null    int64  \n",
            " 8   Term                600 non-null    float64\n",
            " 9   Credit_History      564 non-null    float64\n",
            " 10  Area                614 non-null    object \n",
            " 11  Status              614 non-null    object \n",
            "dtypes: float64(3), int64(2), object(7)\n",
            "memory usage: 57.7+ KB\n"
          ]
        }
      ],
      "source": [
        "df.info()"
      ]
    },
    {
      "cell_type": "code",
      "execution_count": 24,
      "metadata": {
        "colab": {
          "base_uri": "https://localhost:8080/",
          "height": 204
        },
        "id": "5Ur2JgzppZ5e",
        "outputId": "60f6542c-e79a-4b63-e57b-721e9d60e33c"
      },
      "outputs": [
        {
          "output_type": "execute_result",
          "data": {
            "text/plain": [
              "  Gender Married Dependents     Education Self_Employed  Applicant_Income  \\\n",
              "0   Male      No          0      Graduate            No            584900   \n",
              "1   Male     Yes          1      Graduate            No            458300   \n",
              "2   Male     Yes          0      Graduate           Yes            300000   \n",
              "3   Male     Yes          0  Not Graduate            No            258300   \n",
              "4   Male      No          0      Graduate            No            600000   \n",
              "\n",
              "   Coapplicant_Income  Loan_Amount   Term  Credit_History   Area Status  \n",
              "0                 0.0     15000000  360.0             1.0  Urban      Y  \n",
              "1            150800.0     12800000  360.0             1.0  Rural      N  \n",
              "2                 0.0      6600000  360.0             1.0  Urban      Y  \n",
              "3            235800.0     12000000  360.0             1.0  Urban      Y  \n",
              "4                 0.0     14100000  360.0             1.0  Urban      Y  "
            ],
            "text/html": [
              "\n",
              "  <div id=\"df-a58165c2-50f8-414e-a7eb-6ea7ccae91d2\" class=\"colab-df-container\">\n",
              "    <div>\n",
              "<style scoped>\n",
              "    .dataframe tbody tr th:only-of-type {\n",
              "        vertical-align: middle;\n",
              "    }\n",
              "\n",
              "    .dataframe tbody tr th {\n",
              "        vertical-align: top;\n",
              "    }\n",
              "\n",
              "    .dataframe thead th {\n",
              "        text-align: right;\n",
              "    }\n",
              "</style>\n",
              "<table border=\"1\" class=\"dataframe\">\n",
              "  <thead>\n",
              "    <tr style=\"text-align: right;\">\n",
              "      <th></th>\n",
              "      <th>Gender</th>\n",
              "      <th>Married</th>\n",
              "      <th>Dependents</th>\n",
              "      <th>Education</th>\n",
              "      <th>Self_Employed</th>\n",
              "      <th>Applicant_Income</th>\n",
              "      <th>Coapplicant_Income</th>\n",
              "      <th>Loan_Amount</th>\n",
              "      <th>Term</th>\n",
              "      <th>Credit_History</th>\n",
              "      <th>Area</th>\n",
              "      <th>Status</th>\n",
              "    </tr>\n",
              "  </thead>\n",
              "  <tbody>\n",
              "    <tr>\n",
              "      <th>0</th>\n",
              "      <td>Male</td>\n",
              "      <td>No</td>\n",
              "      <td>0</td>\n",
              "      <td>Graduate</td>\n",
              "      <td>No</td>\n",
              "      <td>584900</td>\n",
              "      <td>0.0</td>\n",
              "      <td>15000000</td>\n",
              "      <td>360.0</td>\n",
              "      <td>1.0</td>\n",
              "      <td>Urban</td>\n",
              "      <td>Y</td>\n",
              "    </tr>\n",
              "    <tr>\n",
              "      <th>1</th>\n",
              "      <td>Male</td>\n",
              "      <td>Yes</td>\n",
              "      <td>1</td>\n",
              "      <td>Graduate</td>\n",
              "      <td>No</td>\n",
              "      <td>458300</td>\n",
              "      <td>150800.0</td>\n",
              "      <td>12800000</td>\n",
              "      <td>360.0</td>\n",
              "      <td>1.0</td>\n",
              "      <td>Rural</td>\n",
              "      <td>N</td>\n",
              "    </tr>\n",
              "    <tr>\n",
              "      <th>2</th>\n",
              "      <td>Male</td>\n",
              "      <td>Yes</td>\n",
              "      <td>0</td>\n",
              "      <td>Graduate</td>\n",
              "      <td>Yes</td>\n",
              "      <td>300000</td>\n",
              "      <td>0.0</td>\n",
              "      <td>6600000</td>\n",
              "      <td>360.0</td>\n",
              "      <td>1.0</td>\n",
              "      <td>Urban</td>\n",
              "      <td>Y</td>\n",
              "    </tr>\n",
              "    <tr>\n",
              "      <th>3</th>\n",
              "      <td>Male</td>\n",
              "      <td>Yes</td>\n",
              "      <td>0</td>\n",
              "      <td>Not Graduate</td>\n",
              "      <td>No</td>\n",
              "      <td>258300</td>\n",
              "      <td>235800.0</td>\n",
              "      <td>12000000</td>\n",
              "      <td>360.0</td>\n",
              "      <td>1.0</td>\n",
              "      <td>Urban</td>\n",
              "      <td>Y</td>\n",
              "    </tr>\n",
              "    <tr>\n",
              "      <th>4</th>\n",
              "      <td>Male</td>\n",
              "      <td>No</td>\n",
              "      <td>0</td>\n",
              "      <td>Graduate</td>\n",
              "      <td>No</td>\n",
              "      <td>600000</td>\n",
              "      <td>0.0</td>\n",
              "      <td>14100000</td>\n",
              "      <td>360.0</td>\n",
              "      <td>1.0</td>\n",
              "      <td>Urban</td>\n",
              "      <td>Y</td>\n",
              "    </tr>\n",
              "  </tbody>\n",
              "</table>\n",
              "</div>\n",
              "    <div class=\"colab-df-buttons\">\n",
              "\n",
              "  <div class=\"colab-df-container\">\n",
              "    <button class=\"colab-df-convert\" onclick=\"convertToInteractive('df-a58165c2-50f8-414e-a7eb-6ea7ccae91d2')\"\n",
              "            title=\"Convert this dataframe to an interactive table.\"\n",
              "            style=\"display:none;\">\n",
              "\n",
              "  <svg xmlns=\"http://www.w3.org/2000/svg\" height=\"24px\" viewBox=\"0 -960 960 960\">\n",
              "    <path d=\"M120-120v-720h720v720H120Zm60-500h600v-160H180v160Zm220 220h160v-160H400v160Zm0 220h160v-160H400v160ZM180-400h160v-160H180v160Zm440 0h160v-160H620v160ZM180-180h160v-160H180v160Zm440 0h160v-160H620v160Z\"/>\n",
              "  </svg>\n",
              "    </button>\n",
              "\n",
              "  <style>\n",
              "    .colab-df-container {\n",
              "      display:flex;\n",
              "      gap: 12px;\n",
              "    }\n",
              "\n",
              "    .colab-df-convert {\n",
              "      background-color: #E8F0FE;\n",
              "      border: none;\n",
              "      border-radius: 50%;\n",
              "      cursor: pointer;\n",
              "      display: none;\n",
              "      fill: #1967D2;\n",
              "      height: 32px;\n",
              "      padding: 0 0 0 0;\n",
              "      width: 32px;\n",
              "    }\n",
              "\n",
              "    .colab-df-convert:hover {\n",
              "      background-color: #E2EBFA;\n",
              "      box-shadow: 0px 1px 2px rgba(60, 64, 67, 0.3), 0px 1px 3px 1px rgba(60, 64, 67, 0.15);\n",
              "      fill: #174EA6;\n",
              "    }\n",
              "\n",
              "    .colab-df-buttons div {\n",
              "      margin-bottom: 4px;\n",
              "    }\n",
              "\n",
              "    [theme=dark] .colab-df-convert {\n",
              "      background-color: #3B4455;\n",
              "      fill: #D2E3FC;\n",
              "    }\n",
              "\n",
              "    [theme=dark] .colab-df-convert:hover {\n",
              "      background-color: #434B5C;\n",
              "      box-shadow: 0px 1px 3px 1px rgba(0, 0, 0, 0.15);\n",
              "      filter: drop-shadow(0px 1px 2px rgba(0, 0, 0, 0.3));\n",
              "      fill: #FFFFFF;\n",
              "    }\n",
              "  </style>\n",
              "\n",
              "    <script>\n",
              "      const buttonEl =\n",
              "        document.querySelector('#df-a58165c2-50f8-414e-a7eb-6ea7ccae91d2 button.colab-df-convert');\n",
              "      buttonEl.style.display =\n",
              "        google.colab.kernel.accessAllowed ? 'block' : 'none';\n",
              "\n",
              "      async function convertToInteractive(key) {\n",
              "        const element = document.querySelector('#df-a58165c2-50f8-414e-a7eb-6ea7ccae91d2');\n",
              "        const dataTable =\n",
              "          await google.colab.kernel.invokeFunction('convertToInteractive',\n",
              "                                                    [key], {});\n",
              "        if (!dataTable) return;\n",
              "\n",
              "        const docLinkHtml = 'Like what you see? Visit the ' +\n",
              "          '<a target=\"_blank\" href=https://colab.research.google.com/notebooks/data_table.ipynb>data table notebook</a>'\n",
              "          + ' to learn more about interactive tables.';\n",
              "        element.innerHTML = '';\n",
              "        dataTable['output_type'] = 'display_data';\n",
              "        await google.colab.output.renderOutput(dataTable, element);\n",
              "        const docLink = document.createElement('div');\n",
              "        docLink.innerHTML = docLinkHtml;\n",
              "        element.appendChild(docLink);\n",
              "      }\n",
              "    </script>\n",
              "  </div>\n",
              "\n",
              "\n",
              "<div id=\"df-9514296e-5212-4a83-a241-aa8f24c99fc8\">\n",
              "  <button class=\"colab-df-quickchart\" onclick=\"quickchart('df-9514296e-5212-4a83-a241-aa8f24c99fc8')\"\n",
              "            title=\"Suggest charts\"\n",
              "            style=\"display:none;\">\n",
              "\n",
              "<svg xmlns=\"http://www.w3.org/2000/svg\" height=\"24px\"viewBox=\"0 0 24 24\"\n",
              "     width=\"24px\">\n",
              "    <g>\n",
              "        <path d=\"M19 3H5c-1.1 0-2 .9-2 2v14c0 1.1.9 2 2 2h14c1.1 0 2-.9 2-2V5c0-1.1-.9-2-2-2zM9 17H7v-7h2v7zm4 0h-2V7h2v10zm4 0h-2v-4h2v4z\"/>\n",
              "    </g>\n",
              "</svg>\n",
              "  </button>\n",
              "\n",
              "<style>\n",
              "  .colab-df-quickchart {\n",
              "      --bg-color: #E8F0FE;\n",
              "      --fill-color: #1967D2;\n",
              "      --hover-bg-color: #E2EBFA;\n",
              "      --hover-fill-color: #174EA6;\n",
              "      --disabled-fill-color: #AAA;\n",
              "      --disabled-bg-color: #DDD;\n",
              "  }\n",
              "\n",
              "  [theme=dark] .colab-df-quickchart {\n",
              "      --bg-color: #3B4455;\n",
              "      --fill-color: #D2E3FC;\n",
              "      --hover-bg-color: #434B5C;\n",
              "      --hover-fill-color: #FFFFFF;\n",
              "      --disabled-bg-color: #3B4455;\n",
              "      --disabled-fill-color: #666;\n",
              "  }\n",
              "\n",
              "  .colab-df-quickchart {\n",
              "    background-color: var(--bg-color);\n",
              "    border: none;\n",
              "    border-radius: 50%;\n",
              "    cursor: pointer;\n",
              "    display: none;\n",
              "    fill: var(--fill-color);\n",
              "    height: 32px;\n",
              "    padding: 0;\n",
              "    width: 32px;\n",
              "  }\n",
              "\n",
              "  .colab-df-quickchart:hover {\n",
              "    background-color: var(--hover-bg-color);\n",
              "    box-shadow: 0 1px 2px rgba(60, 64, 67, 0.3), 0 1px 3px 1px rgba(60, 64, 67, 0.15);\n",
              "    fill: var(--button-hover-fill-color);\n",
              "  }\n",
              "\n",
              "  .colab-df-quickchart-complete:disabled,\n",
              "  .colab-df-quickchart-complete:disabled:hover {\n",
              "    background-color: var(--disabled-bg-color);\n",
              "    fill: var(--disabled-fill-color);\n",
              "    box-shadow: none;\n",
              "  }\n",
              "\n",
              "  .colab-df-spinner {\n",
              "    border: 2px solid var(--fill-color);\n",
              "    border-color: transparent;\n",
              "    border-bottom-color: var(--fill-color);\n",
              "    animation:\n",
              "      spin 1s steps(1) infinite;\n",
              "  }\n",
              "\n",
              "  @keyframes spin {\n",
              "    0% {\n",
              "      border-color: transparent;\n",
              "      border-bottom-color: var(--fill-color);\n",
              "      border-left-color: var(--fill-color);\n",
              "    }\n",
              "    20% {\n",
              "      border-color: transparent;\n",
              "      border-left-color: var(--fill-color);\n",
              "      border-top-color: var(--fill-color);\n",
              "    }\n",
              "    30% {\n",
              "      border-color: transparent;\n",
              "      border-left-color: var(--fill-color);\n",
              "      border-top-color: var(--fill-color);\n",
              "      border-right-color: var(--fill-color);\n",
              "    }\n",
              "    40% {\n",
              "      border-color: transparent;\n",
              "      border-right-color: var(--fill-color);\n",
              "      border-top-color: var(--fill-color);\n",
              "    }\n",
              "    60% {\n",
              "      border-color: transparent;\n",
              "      border-right-color: var(--fill-color);\n",
              "    }\n",
              "    80% {\n",
              "      border-color: transparent;\n",
              "      border-right-color: var(--fill-color);\n",
              "      border-bottom-color: var(--fill-color);\n",
              "    }\n",
              "    90% {\n",
              "      border-color: transparent;\n",
              "      border-bottom-color: var(--fill-color);\n",
              "    }\n",
              "  }\n",
              "</style>\n",
              "\n",
              "  <script>\n",
              "    async function quickchart(key) {\n",
              "      const quickchartButtonEl =\n",
              "        document.querySelector('#' + key + ' button');\n",
              "      quickchartButtonEl.disabled = true;  // To prevent multiple clicks.\n",
              "      quickchartButtonEl.classList.add('colab-df-spinner');\n",
              "      try {\n",
              "        const charts = await google.colab.kernel.invokeFunction(\n",
              "            'suggestCharts', [key], {});\n",
              "      } catch (error) {\n",
              "        console.error('Error during call to suggestCharts:', error);\n",
              "      }\n",
              "      quickchartButtonEl.classList.remove('colab-df-spinner');\n",
              "      quickchartButtonEl.classList.add('colab-df-quickchart-complete');\n",
              "    }\n",
              "    (() => {\n",
              "      let quickchartButtonEl =\n",
              "        document.querySelector('#df-9514296e-5212-4a83-a241-aa8f24c99fc8 button');\n",
              "      quickchartButtonEl.style.display =\n",
              "        google.colab.kernel.accessAllowed ? 'block' : 'none';\n",
              "    })();\n",
              "  </script>\n",
              "</div>\n",
              "\n",
              "    </div>\n",
              "  </div>\n"
            ],
            "application/vnd.google.colaboratory.intrinsic+json": {
              "type": "dataframe",
              "variable_name": "df",
              "summary": "{\n  \"name\": \"df\",\n  \"rows\": 614,\n  \"fields\": [\n    {\n      \"column\": \"Gender\",\n      \"properties\": {\n        \"dtype\": \"category\",\n        \"num_unique_values\": 2,\n        \"samples\": [\n          \"Female\",\n          \"Male\"\n        ],\n        \"semantic_type\": \"\",\n        \"description\": \"\"\n      }\n    },\n    {\n      \"column\": \"Married\",\n      \"properties\": {\n        \"dtype\": \"category\",\n        \"num_unique_values\": 2,\n        \"samples\": [\n          \"Yes\",\n          \"No\"\n        ],\n        \"semantic_type\": \"\",\n        \"description\": \"\"\n      }\n    },\n    {\n      \"column\": \"Dependents\",\n      \"properties\": {\n        \"dtype\": \"category\",\n        \"num_unique_values\": 4,\n        \"samples\": [\n          \"1\",\n          \"3+\"\n        ],\n        \"semantic_type\": \"\",\n        \"description\": \"\"\n      }\n    },\n    {\n      \"column\": \"Education\",\n      \"properties\": {\n        \"dtype\": \"category\",\n        \"num_unique_values\": 2,\n        \"samples\": [\n          \"Not Graduate\",\n          \"Graduate\"\n        ],\n        \"semantic_type\": \"\",\n        \"description\": \"\"\n      }\n    },\n    {\n      \"column\": \"Self_Employed\",\n      \"properties\": {\n        \"dtype\": \"category\",\n        \"num_unique_values\": 2,\n        \"samples\": [\n          \"Yes\",\n          \"No\"\n        ],\n        \"semantic_type\": \"\",\n        \"description\": \"\"\n      }\n    },\n    {\n      \"column\": \"Applicant_Income\",\n      \"properties\": {\n        \"dtype\": \"number\",\n        \"std\": 610904,\n        \"min\": 15000,\n        \"max\": 8100000,\n        \"num_unique_values\": 505,\n        \"samples\": [\n          833300,\n          434200\n        ],\n        \"semantic_type\": \"\",\n        \"description\": \"\"\n      }\n    },\n    {\n      \"column\": \"Coapplicant_Income\",\n      \"properties\": {\n        \"dtype\": \"number\",\n        \"std\": 292624.8369224189,\n        \"min\": 0.0,\n        \"max\": 4166700.0,\n        \"num_unique_values\": 287,\n        \"samples\": [\n          184000.0,\n          204200.0\n        ],\n        \"semantic_type\": \"\",\n        \"description\": \"\"\n      }\n    },\n    {\n      \"column\": \"Loan_Amount\",\n      \"properties\": {\n        \"dtype\": \"number\",\n        \"std\": 8815682,\n        \"min\": 0,\n        \"max\": 70000000,\n        \"num_unique_values\": 204,\n        \"samples\": [\n          12500000,\n          34900000\n        ],\n        \"semantic_type\": \"\",\n        \"description\": \"\"\n      }\n    },\n    {\n      \"column\": \"Term\",\n      \"properties\": {\n        \"dtype\": \"number\",\n        \"std\": 65.12040985461256,\n        \"min\": 12.0,\n        \"max\": 480.0,\n        \"num_unique_values\": 10,\n        \"samples\": [\n          84.0,\n          120.0\n        ],\n        \"semantic_type\": \"\",\n        \"description\": \"\"\n      }\n    },\n    {\n      \"column\": \"Credit_History\",\n      \"properties\": {\n        \"dtype\": \"number\",\n        \"std\": 0.3648783192364048,\n        \"min\": 0.0,\n        \"max\": 1.0,\n        \"num_unique_values\": 2,\n        \"samples\": [\n          0.0,\n          1.0\n        ],\n        \"semantic_type\": \"\",\n        \"description\": \"\"\n      }\n    },\n    {\n      \"column\": \"Area\",\n      \"properties\": {\n        \"dtype\": \"category\",\n        \"num_unique_values\": 3,\n        \"samples\": [\n          \"Urban\",\n          \"Rural\"\n        ],\n        \"semantic_type\": \"\",\n        \"description\": \"\"\n      }\n    },\n    {\n      \"column\": \"Status\",\n      \"properties\": {\n        \"dtype\": \"category\",\n        \"num_unique_values\": 2,\n        \"samples\": [\n          \"N\",\n          \"Y\"\n        ],\n        \"semantic_type\": \"\",\n        \"description\": \"\"\n      }\n    }\n  ]\n}"
            }
          },
          "metadata": {},
          "execution_count": 24
        }
      ],
      "source": [
        "df.head()"
      ]
    },
    {
      "cell_type": "code",
      "execution_count": 25,
      "metadata": {
        "colab": {
          "base_uri": "https://localhost:8080/"
        },
        "id": "WCADP5gZqUqf",
        "outputId": "daf2a740-11f9-4d98-e766-3fab5a0ea508"
      },
      "outputs": [
        {
          "output_type": "execute_result",
          "data": {
            "text/plain": [
              "Index(['Gender', 'Married', 'Dependents', 'Education', 'Self_Employed',\n",
              "       'Applicant_Income', 'Coapplicant_Income', 'Loan_Amount', 'Term',\n",
              "       'Credit_History', 'Area', 'Status'],\n",
              "      dtype='object')"
            ]
          },
          "metadata": {},
          "execution_count": 25
        }
      ],
      "source": [
        "df.columns"
      ]
    },
    {
      "cell_type": "code",
      "execution_count": 26,
      "metadata": {
        "colab": {
          "base_uri": "https://localhost:8080/"
        },
        "id": "eKTaJj79qctU",
        "outputId": "d1da1f8a-2c58-407d-f8c7-80b1bdcc2ef9"
      },
      "outputs": [
        {
          "output_type": "execute_result",
          "data": {
            "text/plain": [
              "(614, 12)"
            ]
          },
          "metadata": {},
          "execution_count": 26
        }
      ],
      "source": [
        "df.shape"
      ]
    },
    {
      "cell_type": "code",
      "execution_count": 27,
      "metadata": {
        "colab": {
          "base_uri": "https://localhost:8080/"
        },
        "id": "ZwQ-bNJkqiQS",
        "outputId": "3afe29e3-659a-40e0-f950-dcdb3503cfbf"
      },
      "outputs": [
        {
          "output_type": "execute_result",
          "data": {
            "text/plain": [
              "0"
            ]
          },
          "metadata": {},
          "execution_count": 27
        }
      ],
      "source": [
        "df.duplicated().sum()"
      ]
    },
    {
      "cell_type": "code",
      "execution_count": 28,
      "metadata": {
        "colab": {
          "base_uri": "https://localhost:8080/"
        },
        "id": "TETOgkHlqxE4",
        "outputId": "763388c4-6d14-4254-b2b7-b273630c0fbf"
      },
      "outputs": [
        {
          "output_type": "execute_result",
          "data": {
            "text/plain": [
              "Gender                13\n",
              "Married                3\n",
              "Dependents            15\n",
              "Education              0\n",
              "Self_Employed         32\n",
              "Applicant_Income       0\n",
              "Coapplicant_Income     0\n",
              "Loan_Amount            0\n",
              "Term                  14\n",
              "Credit_History        50\n",
              "Area                   0\n",
              "Status                 0\n",
              "dtype: int64"
            ]
          },
          "metadata": {},
          "execution_count": 28
        }
      ],
      "source": [
        "df.isnull().sum()"
      ]
    },
    {
      "cell_type": "code",
      "execution_count": 29,
      "metadata": {
        "colab": {
          "base_uri": "https://localhost:8080/"
        },
        "id": "mXPYvyXLrSJn",
        "outputId": "15139835-d3e2-448c-de0a-a33f9edde7f0"
      },
      "outputs": [
        {
          "output_type": "stream",
          "name": "stdout",
          "text": [
            "(614, 12) (614, 12)\n"
          ]
        }
      ],
      "source": [
        "print(df.shape, df.shape)\n"
      ]
    },
    {
      "cell_type": "code",
      "execution_count": 30,
      "metadata": {
        "colab": {
          "base_uri": "https://localhost:8080/"
        },
        "id": "2tognfImssvn",
        "outputId": "c121ad90-f708-4292-c899-32c0cb911ca4"
      },
      "outputs": [
        {
          "output_type": "execute_result",
          "data": {
            "text/plain": [
              "Male      489\n",
              "Female    112\n",
              "NaN        13\n",
              "Name: Gender, dtype: int64"
            ]
          },
          "metadata": {},
          "execution_count": 30
        }
      ],
      "source": [
        "df.Gender.value_counts(dropna = False)"
      ]
    },
    {
      "cell_type": "code",
      "execution_count": 31,
      "metadata": {
        "colab": {
          "base_uri": "https://localhost:8080/"
        },
        "id": "3KqWb2zUym8w",
        "outputId": "6f6c44f3-15ff-49c4-ecb2-26d023faa2a4"
      },
      "outputs": [
        {
          "output_type": "stream",
          "name": "stdout",
          "text": [
            "Percentage of Male applicant: 79.64 %\n",
            "Percentage of Female applicant: 18.24 %\n",
            "Missing values percentage: 2.12 %\n"
          ]
        }
      ],
      "source": [
        "count_male = len(df[df.Gender == 'Male'])\n",
        "count_female = len(df[df.Gender == 'Female'])\n",
        "count_null = len(df[df.Gender.isnull()])\n",
        "\n",
        "print(\"Percentage of Male applicant: {:.2f} %\".format((count_male / (len(df.Gender))*100)))\n",
        "print(\"Percentage of Female applicant: {:.2f} %\".format((count_female / (len(df.Gender))*100)))\n",
        "print(\"Missing values percentage: {:.2f} %\".format((count_null / (len(df.Gender))*100)))"
      ]
    },
    {
      "cell_type": "code",
      "execution_count": 32,
      "metadata": {
        "colab": {
          "base_uri": "https://localhost:8080/"
        },
        "id": "uaJne01P0KfX",
        "outputId": "5974dc8e-f680-469f-d9eb-f90cef073773"
      },
      "outputs": [
        {
          "output_type": "execute_result",
          "data": {
            "text/plain": [
              "Yes    398\n",
              "No     213\n",
              "NaN      3\n",
              "Name: Married, dtype: int64"
            ]
          },
          "metadata": {},
          "execution_count": 32
        }
      ],
      "source": [
        "df.Married.value_counts(dropna = False)"
      ]
    },
    {
      "cell_type": "code",
      "execution_count": 33,
      "metadata": {
        "colab": {
          "base_uri": "https://localhost:8080/",
          "height": 449
        },
        "id": "--KVwpzv0ybD",
        "outputId": "c9499995-4c6c-4807-fab7-8775b6ecbd8a"
      },
      "outputs": [
        {
          "output_type": "display_data",
          "data": {
            "text/plain": [
              "<Figure size 640x480 with 1 Axes>"
            ],
            "image/png": "[encoded data removed]"
          },
          "metadata": {}
        }
      ],
      "source": [
        "sns.countplot(x = \"Married\", data = df)\n",
        "plt.show()\n"
      ]
    },
    {
      "cell_type": "code",
      "execution_count": 34,
      "metadata": {
        "colab": {
          "base_uri": "https://localhost:8080/"
        },
        "id": "I1pOLtM50nCw",
        "outputId": "91902720-9111-44e6-cfb2-319391b85955"
      },
      "outputs": [
        {
          "output_type": "execute_result",
          "data": {
            "text/plain": [
              "Male      489\n",
              "Female    112\n",
              "NaN        13\n",
              "Name: Gender, dtype: int64"
            ]
          },
          "metadata": {},
          "execution_count": 34
        }
      ],
      "source": [
        "df.Gender.value_counts(dropna = False)"
      ]
    },
    {
      "cell_type": "code",
      "execution_count": 35,
      "metadata": {
        "colab": {
          "base_uri": "https://localhost:8080/",
          "height": 449
        },
        "id": "t24lacsl3xKy",
        "outputId": "9e7ee225-1a02-4357-e96c-4dfb3d2bf1f2"
      },
      "outputs": [
        {
          "output_type": "display_data",
          "data": {
            "text/plain": [
              "<Figure size 640x480 with 1 Axes>"
            ],
            "image/png": "[encoded data removed]"
          },
          "metadata": {}
        }
      ],
      "source": [
        "sns.countplot(x=\"Gender\", data = df)\n",
        "plt.show()"
      ]
    },
    {
      "cell_type": "code",
      "execution_count": 36,
      "metadata": {
        "colab": {
          "base_uri": "https://localhost:8080/"
        },
        "id": "GrEkXpx74G3S",
        "outputId": "603aa9e0-1bea-4222-f8a8-77d50273dc33"
      },
      "outputs": [
        {
          "output_type": "stream",
          "name": "stdout",
          "text": [
            "Percentage of Male applicant: 79.64 %\n",
            "Percentage of Female applicant: 18.24 %\n",
            "Missing values percentage: 2.12 %\n"
          ]
        }
      ],
      "source": [
        "ount_male = len(df[df.Gender == 'Male'])\n",
        "count_female = len(df[df.Gender == 'Female'])\n",
        "count_null = len(df[df.Gender.isnull()])\n",
        "\n",
        "print(\"Percentage of Male applicant: {:.2f} %\".format((count_male / (len(df.Gender))*100)))\n",
        "print(\"Percentage of Female applicant: {:.2f} %\".format((count_female / (len(df.Gender))*100)))\n",
        "print(\"Missing values percentage: {:.2f} %\".format((count_null / (len(df.Gender))*100)))"
      ]
    },
    {
      "cell_type": "code",
      "execution_count": 37,
      "metadata": {
        "colab": {
          "base_uri": "https://localhost:8080/"
        },
        "id": "n78EpjOF5i3P",
        "outputId": "be07af33-1229-482e-fb34-bd716c01beae"
      },
      "outputs": [
        {
          "output_type": "execute_result",
          "data": {
            "text/plain": [
              "Graduate        480\n",
              "Not Graduate    134\n",
              "Name: Education, dtype: int64"
            ]
          },
          "metadata": {},
          "execution_count": 37
        }
      ],
      "source": [
        "df.Education.value_counts(dropna=False)"
      ]
    },
    {
      "cell_type": "code",
      "execution_count": 38,
      "metadata": {
        "colab": {
          "base_uri": "https://localhost:8080/"
        },
        "id": "imhns-Xi5-Ji",
        "outputId": "b1ae1f06-8eb8-46c8-ac2f-1692ee73db68"
      },
      "outputs": [
        {
          "output_type": "stream",
          "name": "stdout",
          "text": [
            "Percentage of graduate applicant: 78.18 %\n",
            "Percentage of Not graduate applicant: 21.82 %\n",
            "Missing values percentage: 0.00 %\n"
          ]
        }
      ],
      "source": [
        "count_graduate = len(df[df.Education == 'Graduate'])\n",
        "count_not_graduate = len(df[df.Education == 'Not Graduate'])\n",
        "count_null = len(df[df.Education.isnull()])\n",
        "\n",
        "print(\"Percentage of graduate applicant: {:.2f} %\".format((count_graduate / (len(df.Education))*100)))\n",
        "print(\"Percentage of Not graduate applicant: {:.2f} %\".format((count_not_graduate / (len(df.Education))*100)))\n",
        "print(\"Missing values percentage: {:.2f} %\".format((count_null / (len(df.Education))*100)))"
      ]
    },
    {
      "cell_type": "code",
      "execution_count": 39,
      "metadata": {
        "colab": {
          "base_uri": "https://localhost:8080/",
          "height": 452
        },
        "id": "nl2Ls0cX50k5",
        "outputId": "0c51b2ad-3e98-47c8-b6fc-beddaaa1ab3c"
      },
      "outputs": [
        {
          "output_type": "display_data",
          "data": {
            "text/plain": [
              "<Figure size 640x480 with 1 Axes>"
            ],
            "image/png": "[encoded data removed]"
          },
          "metadata": {}
        }
      ],
      "source": [
        "sns.countplot(x = \"Education\", data = df)\n",
        "plt.show()"
      ]
    },
    {
      "cell_type": "code",
      "execution_count": 40,
      "metadata": {
        "colab": {
          "base_uri": "https://localhost:8080/"
        },
        "id": "Rm90WL5u61Kk",
        "outputId": "94a05214-2c9d-4165-e57d-30847efc99bf"
      },
      "outputs": [
        {
          "output_type": "execute_result",
          "data": {
            "text/plain": [
              "No     500\n",
              "Yes     82\n",
              "NaN     32\n",
              "Name: Self_Employed, dtype: int64"
            ]
          },
          "metadata": {},
          "execution_count": 40
        }
      ],
      "source": [
        "df.Self_Employed.value_counts(dropna=False)"
      ]
    },
    {
      "cell_type": "code",
      "execution_count": 41,
      "metadata": {
        "colab": {
          "base_uri": "https://localhost:8080/",
          "height": 450
        },
        "id": "1Mlm8ymM7CrG",
        "outputId": "d7ec9994-169c-4582-baea-794d2c9b626f"
      },
      "outputs": [
        {
          "output_type": "display_data",
          "data": {
            "text/plain": [
              "<Figure size 640x480 with 1 Axes>"
            ],
            "image/png": "[encoded data removed]"
          },
          "metadata": {}
        }
      ],
      "source": [
        "sns.countplot(x = \"Self_Employed\", data = df)\n",
        "plt.show()"
      ]
    },
    {
      "cell_type": "code",
      "execution_count": 42,
      "metadata": {
        "colab": {
          "base_uri": "https://localhost:8080/"
        },
        "id": "qgDvshcx7VlN",
        "outputId": "9e8e3fd6-8e04-4c4c-ef82-4c370f81f808"
      },
      "outputs": [
        {
          "output_type": "stream",
          "name": "stdout",
          "text": [
            "Percentage of Not self employed: 81.43 %\n",
            "Percentage of self employed: 13.36 %\n",
            "Missing values percentage: 5.21 %\n"
          ]
        }
      ],
      "source": [
        "count_no = len(df[df.Self_Employed == 'No'])\n",
        "count_yes = len(df[df.Self_Employed == 'Yes'])\n",
        "count_null = len(df[df.Self_Employed.isnull()])\n",
        "\n",
        "print(\"Percentage of Not self employed: {:.2f} %\".format((count_no / (len(df.Self_Employed))*100)))\n",
        "print(\"Percentage of self employed: {:.2f} %\".format((count_yes / (len(df.Self_Employed))*100)))\n",
        "print(\"Missing values percentage: {:.2f} %\".format((count_null / (len(df.Self_Employed))*100)))"
      ]
    },
    {
      "cell_type": "code",
      "execution_count": 43,
      "metadata": {
        "colab": {
          "base_uri": "https://localhost:8080/"
        },
        "id": "y5X4DRhx8py0",
        "outputId": "b2e3a047-28a0-467a-b4a5-1af468077f1d"
      },
      "outputs": [
        {
          "output_type": "execute_result",
          "data": {
            "text/plain": [
              "1.0    475\n",
              "0.0     89\n",
              "NaN     50\n",
              "Name: Credit_History, dtype: int64"
            ]
          },
          "metadata": {},
          "execution_count": 43
        }
      ],
      "source": [
        "df.Credit_History.value_counts(dropna=False)"
      ]
    },
    {
      "cell_type": "code",
      "execution_count": 44,
      "metadata": {
        "colab": {
          "base_uri": "https://localhost:8080/",
          "height": 450
        },
        "id": "0tmYSevQ89C8",
        "outputId": "4d187156-45d6-49a3-ac7e-52f53ad0d145"
      },
      "outputs": [
        {
          "output_type": "display_data",
          "data": {
            "text/plain": [
              "<Figure size 640x480 with 1 Axes>"
            ],
            "image/png": "[encoded data removed]"
          },
          "metadata": {}
        }
      ],
      "source": [
        "sns.countplot(x = \"Credit_History\", data = df, palette = \"crest\")\n",
        "plt.show()"
      ]
    },
    {
      "cell_type": "code",
      "execution_count": 45,
      "metadata": {
        "colab": {
          "base_uri": "https://localhost:8080/"
        },
        "id": "x4_7iHQ0_AqL",
        "outputId": "2a41f44c-d4bd-414b-d56f-271fddae7b86"
      },
      "outputs": [
        {
          "output_type": "stream",
          "name": "stdout",
          "text": [
            "Percentage of Good credit history: 77.36 %\n",
            "Percentage of Bad credit history: 14.50 %\n",
            "Missing values percentage: 8.14 %\n"
          ]
        }
      ],
      "source": [
        "count_1 = len(df[df.Credit_History == 1])\n",
        "count_0 = len(df[df.Credit_History == 0])\n",
        "count_null = len(df[df.Credit_History.isnull()])\n",
        "\n",
        "print(\"Percentage of Good credit history: {:.2f} %\".format((count_1 / (len(df.Credit_History))*100)))\n",
        "print(\"Percentage of Bad credit history: {:.2f} %\".format((count_0 / (len(df.Credit_History))*100)))\n",
        "print(\"Missing values percentage: {:.2f} %\".format((count_null / (len(df.Credit_History))*100)))"
      ]
    },
    {
      "cell_type": "code",
      "execution_count": 46,
      "metadata": {
        "colab": {
          "base_uri": "https://localhost:8080/"
        },
        "id": "llOEKTL0_qBT",
        "outputId": "27f6ffed-2a9d-4c41-d486-e353b70d1994"
      },
      "outputs": [
        {
          "output_type": "execute_result",
          "data": {
            "text/plain": [
              "Semiurban    233\n",
              "Urban        202\n",
              "Rural        179\n",
              "Name: Area, dtype: int64"
            ]
          },
          "metadata": {},
          "execution_count": 46
        }
      ],
      "source": [
        "df.Area.value_counts(dropna=False)"
      ]
    },
    {
      "cell_type": "code",
      "execution_count": 47,
      "metadata": {
        "colab": {
          "base_uri": "https://localhost:8080/",
          "height": 449
        },
        "id": "oO2Klo7n_5FS",
        "outputId": "bb7adc74-afce-4e3d-f1b7-510644c7b082"
      },
      "outputs": [
        {
          "output_type": "display_data",
          "data": {
            "text/plain": [
              "<Figure size 640x480 with 1 Axes>"
            ],
            "image/png": "[encoded data removed]"
          },
          "metadata": {}
        }
      ],
      "source": [
        "sns.countplot(x = \"Area\", data = df, palette=\"crest\")\n",
        "plt.show()"
      ]
    },
    {
      "cell_type": "code",
      "execution_count": 48,
      "metadata": {
        "colab": {
          "base_uri": "https://localhost:8080/"
        },
        "id": "Dp3eH4pcAGjM",
        "outputId": "2bed59d6-0528-47e8-ea4e-76d88bc130e6"
      },
      "outputs": [
        {
          "output_type": "stream",
          "name": "stdout",
          "text": [
            "Percentage of Urban: 32.90 %\n",
            "Percentage of Rural: 29.15 %\n",
            "Percentage of Semiurban: 37.95 %\n",
            "Missing values percentage: 0.00 %\n"
          ]
        }
      ],
      "source": [
        "count_urban = len(df[df.Area == 'Urban'])\n",
        "count_rural = len(df[df.Area == 'Rural'])\n",
        "count_semi_urban = len(df[df.Area == 'Semiurban'])\n",
        "count_null = len(df[df.Area.isnull()])\n",
        "\n",
        "print(\"Percentage of Urban: {:.2f} %\".format((count_urban / (len(df.Area))*100)))\n",
        "print(\"Percentage of Rural: {:.2f} %\".format((count_rural / (len(df.Area))*100)))\n",
        "print(\"Percentage of Semiurban: {:.2f} %\".format((count_semi_urban / (len(df.Area))*100)))\n",
        "print(\"Missing values percentage: {:.2f} %\".format((count_null / (len(df.Area))*100)))"
      ]
    },
    {
      "cell_type": "code",
      "execution_count": 49,
      "metadata": {
        "colab": {
          "base_uri": "https://localhost:8080/"
        },
        "id": "6OUixm_pAx0b",
        "outputId": "d5a28701-d0ba-4996-ba51-6388dd551410"
      },
      "outputs": [
        {
          "output_type": "execute_result",
          "data": {
            "text/plain": [
              "Y    422\n",
              "N    192\n",
              "Name: Status, dtype: int64"
            ]
          },
          "metadata": {},
          "execution_count": 49
        }
      ],
      "source": [
        "df.Status.value_counts(dropna=False)"
      ]
    },
    {
      "cell_type": "code",
      "execution_count": 50,
      "metadata": {
        "colab": {
          "base_uri": "https://localhost:8080/",
          "height": 449
        },
        "id": "Vm2vXr60CBnM",
        "outputId": "6a500209-eb5b-488b-9f6e-51edb4b76fe0"
      },
      "outputs": [
        {
          "output_type": "display_data",
          "data": {
            "text/plain": [
              "<Figure size 640x480 with 1 Axes>"
            ],
            "image/png": "[encoded data removed]"
          },
          "metadata": {}
        }
      ],
      "source": [
        "sns.countplot(x = \"Status\", data = df, palette = \"crest\")\n",
        "plt.show()"
      ]
    },
    {
      "cell_type": "code",
      "execution_count": 51,
      "metadata": {
        "colab": {
          "base_uri": "https://localhost:8080/"
        },
        "id": "lTXXzBYfCX7X",
        "outputId": "709f4ceb-6da5-4a89-b4f4-70ceeb77ac4c"
      },
      "outputs": [
        {
          "output_type": "stream",
          "name": "stdout",
          "text": [
            "Percentage of Approved: 68.73 %\n",
            "Percentage of Rejected: 31.27 %\n",
            "Missing values percentage: 0.00 %\n"
          ]
        }
      ],
      "source": [
        "count_Y = len(df[df.Status == 'Y'])\n",
        "count_N = len(df[df.Status == 'N'])\n",
        "count_null = len(df[df.Status.isnull()])\n",
        "\n",
        "print(\"Percentage of Approved: {:.2f} %\".format((count_Y / (len(df.Status))*100)))\n",
        "print(\"Percentage of Rejected: {:.2f} %\".format((count_N / (len(df.Status))*100)))\n",
        "print(\"Missing values percentage: {:.2f} %\".format((count_null / (len(df.Status))*100)))"
      ]
    },
    {
      "cell_type": "code",
      "execution_count": 52,
      "metadata": {
        "colab": {
          "base_uri": "https://localhost:8080/"
        },
        "id": "hSlx7Mz7C8fZ",
        "outputId": "6ab0931c-e6e0-43cd-b6d0-065857fb637b"
      },
      "outputs": [
        {
          "output_type": "execute_result",
          "data": {
            "text/plain": [
              "360.0    512\n",
              "180.0     44\n",
              "480.0     15\n",
              "NaN       14\n",
              "300.0     13\n",
              "240.0      4\n",
              "84.0       4\n",
              "120.0      3\n",
              "60.0       2\n",
              "36.0       2\n",
              "12.0       1\n",
              "Name: Term, dtype: int64"
            ]
          },
          "metadata": {},
          "execution_count": 52
        }
      ],
      "source": [
        "df.Term.value_counts(dropna=False)"
      ]
    },
    {
      "cell_type": "code",
      "execution_count": 53,
      "metadata": {
        "colab": {
          "base_uri": "https://localhost:8080/",
          "height": 449
        },
        "id": "9XEIOGzODCrb",
        "outputId": "77f18f03-3d03-4d52-f5a7-17fc72fb07ed"
      },
      "outputs": [
        {
          "output_type": "display_data",
          "data": {
            "text/plain": [
              "<Figure size 640x480 with 1 Axes>"
            ],
            "image/png": "[encoded data removed]"
          },
          "metadata": {}
        }
      ],
      "source": [
        "sns.countplot(x = \"Term\", data = df, palette = \"crest\")\n",
        "plt.show()"
      ]
    },
    {
      "cell_type": "code",
      "execution_count": 54,
      "metadata": {
        "colab": {
          "base_uri": "https://localhost:8080/"
        },
        "id": "8OWtj7cxDpSU",
        "outputId": "f42728e0-ccaf-4213-d626-ace02d4750ac"
      },
      "outputs": [
        {
          "output_type": "execute_result",
          "data": {
            "text/plain": [
              "360.0    83.387622\n",
              "180.0     7.166124\n",
              "480.0     2.442997\n",
              "300.0     2.117264\n",
              "240.0     0.651466\n",
              "84.0      0.651466\n",
              "120.0     0.488599\n",
              "60.0      0.325733\n",
              "36.0      0.325733\n",
              "12.0      0.162866\n",
              "Name: Term, dtype: float64"
            ]
          },
          "metadata": {},
          "execution_count": 54
        }
      ],
      "source": [
        "df.Term.value_counts()/len(df) * 100"
      ]
    },
    {
      "cell_type": "code",
      "execution_count": 55,
      "metadata": {
        "colab": {
          "base_uri": "https://localhost:8080/",
          "height": 297
        },
        "id": "gvkdl5mWEt2o",
        "outputId": "df544b1f-f5bb-4c53-d4ef-90c9f2281ae6"
      },
      "outputs": [
        {
          "output_type": "execute_result",
          "data": {
            "text/plain": [
              "       Applicant_Income  Coapplicant_Income   Loan_Amount\n",
              "count      6.140000e+02        6.140000e+02  6.140000e+02\n",
              "mean       5.403459e+05        1.621246e+05  1.414104e+07\n",
              "std        6.109042e+05        2.926248e+05  8.815682e+06\n",
              "min        1.500000e+04        0.000000e+00  0.000000e+00\n",
              "25%        2.877500e+05        0.000000e+00  9.800000e+06\n",
              "50%        3.812500e+05        1.188500e+05  1.250000e+07\n",
              "75%        5.795000e+05        2.297250e+05  1.647500e+07\n",
              "max        8.100000e+06        4.166700e+06  7.000000e+07"
            ],
            "text/html": [
              "\n",
              "  <div id=\"df-7b0a5ef1-fd62-44ea-b178-6f1d7fb42772\" class=\"colab-df-container\">\n",
              "    <div>\n",
              "<style scoped>\n",
              "    .dataframe tbody tr th:only-of-type {\n",
              "        vertical-align: middle;\n",
              "    }\n",
              "\n",
              "    .dataframe tbody tr th {\n",
              "        vertical-align: top;\n",
              "    }\n",
              "\n",
              "    .dataframe thead th {\n",
              "        text-align: right;\n",
              "    }\n",
              "</style>\n",
              "<table border=\"1\" class=\"dataframe\">\n",
              "  <thead>\n",
              "    <tr style=\"text-align: right;\">\n",
              "      <th></th>\n",
              "      <th>Applicant_Income</th>\n",
              "      <th>Coapplicant_Income</th>\n",
              "      <th>Loan_Amount</th>\n",
              "    </tr>\n",
              "  </thead>\n",
              "  <tbody>\n",
              "    <tr>\n",
              "      <th>count</th>\n",
              "      <td>6.140000e+02</td>\n",
              "      <td>6.140000e+02</td>\n",
              "      <td>6.140000e+02</td>\n",
              "    </tr>\n",
              "    <tr>\n",
              "      <th>mean</th>\n",
              "      <td>5.403459e+05</td>\n",
              "      <td>1.621246e+05</td>\n",
              "      <td>1.414104e+07</td>\n",
              "    </tr>\n",
              "    <tr>\n",
              "      <th>std</th>\n",
              "      <td>6.109042e+05</td>\n",
              "      <td>2.926248e+05</td>\n",
              "      <td>8.815682e+06</td>\n",
              "    </tr>\n",
              "    <tr>\n",
              "      <th>min</th>\n",
              "      <td>1.500000e+04</td>\n",
              "      <td>0.000000e+00</td>\n",
              "      <td>0.000000e+00</td>\n",
              "    </tr>\n",
              "    <tr>\n",
              "      <th>25%</th>\n",
              "      <td>2.877500e+05</td>\n",
              "      <td>0.000000e+00</td>\n",
              "      <td>9.800000e+06</td>\n",
              "    </tr>\n",
              "    <tr>\n",
              "      <th>50%</th>\n",
              "      <td>3.812500e+05</td>\n",
              "      <td>1.188500e+05</td>\n",
              "      <td>1.250000e+07</td>\n",
              "    </tr>\n",
              "    <tr>\n",
              "      <th>75%</th>\n",
              "      <td>5.795000e+05</td>\n",
              "      <td>2.297250e+05</td>\n",
              "      <td>1.647500e+07</td>\n",
              "    </tr>\n",
              "    <tr>\n",
              "      <th>max</th>\n",
              "      <td>8.100000e+06</td>\n",
              "      <td>4.166700e+06</td>\n",
              "      <td>7.000000e+07</td>\n",
              "    </tr>\n",
              "  </tbody>\n",
              "</table>\n",
              "</div>\n",
              "    <div class=\"colab-df-buttons\">\n",
              "\n",
              "  <div class=\"colab-df-container\">\n",
              "    <button class=\"colab-df-convert\" onclick=\"convertToInteractive('df-7b0a5ef1-fd62-44ea-b178-6f1d7fb42772')\"\n",
              "            title=\"Convert this dataframe to an interactive table.\"\n",
              "            style=\"display:none;\">\n",
              "\n",
              "  <svg xmlns=\"http://www.w3.org/2000/svg\" height=\"24px\" viewBox=\"0 -960 960 960\">\n",
              "    <path d=\"M120-120v-720h720v720H120Zm60-500h600v-160H180v160Zm220 220h160v-160H400v160Zm0 220h160v-160H400v160ZM180-400h160v-160H180v160Zm440 0h160v-160H620v160ZM180-180h160v-160H180v160Zm440 0h160v-160H620v160Z\"/>\n",
              "  </svg>\n",
              "    </button>\n",
              "\n",
              "  <style>\n",
              "    .colab-df-container {\n",
              "      display:flex;\n",
              "      gap: 12px;\n",
              "    }\n",
              "\n",
              "    .colab-df-convert {\n",
              "      background-color: #E8F0FE;\n",
              "      border: none;\n",
              "      border-radius: 50%;\n",
              "      cursor: pointer;\n",
              "      display: none;\n",
              "      fill: #1967D2;\n",
              "      height: 32px;\n",
              "      padding: 0 0 0 0;\n",
              "      width: 32px;\n",
              "    }\n",
              "\n",
              "    .colab-df-convert:hover {\n",
              "      background-color: #E2EBFA;\n",
              "      box-shadow: 0px 1px 2px rgba(60, 64, 67, 0.3), 0px 1px 3px 1px rgba(60, 64, 67, 0.15);\n",
              "      fill: #174EA6;\n",
              "    }\n",
              "\n",
              "    .colab-df-buttons div {\n",
              "      margin-bottom: 4px;\n",
              "    }\n",
              "\n",
              "    [theme=dark] .colab-df-convert {\n",
              "      background-color: #3B4455;\n",
              "      fill: #D2E3FC;\n",
              "    }\n",
              "\n",
              "    [theme=dark] .colab-df-convert:hover {\n",
              "      background-color: #434B5C;\n",
              "      box-shadow: 0px 1px 3px 1px rgba(0, 0, 0, 0.15);\n",
              "      filter: drop-shadow(0px 1px 2px rgba(0, 0, 0, 0.3));\n",
              "      fill: #FFFFFF;\n",
              "    }\n",
              "  </style>\n",
              "\n",
              "    <script>\n",
              "      const buttonEl =\n",
              "        document.querySelector('#df-7b0a5ef1-fd62-44ea-b178-6f1d7fb42772 button.colab-df-convert');\n",
              "      buttonEl.style.display =\n",
              "        google.colab.kernel.accessAllowed ? 'block' : 'none';\n",
              "\n",
              "      async function convertToInteractive(key) {\n",
              "        const element = document.querySelector('#df-7b0a5ef1-fd62-44ea-b178-6f1d7fb42772');\n",
              "        const dataTable =\n",
              "          await google.colab.kernel.invokeFunction('convertToInteractive',\n",
              "                                                    [key], {});\n",
              "        if (!dataTable) return;\n",
              "\n",
              "        const docLinkHtml = 'Like what you see? Visit the ' +\n",
              "          '<a target=\"_blank\" href=https://colab.research.google.com/notebooks/data_table.ipynb>data table notebook</a>'\n",
              "          + ' to learn more about interactive tables.';\n",
              "        element.innerHTML = '';\n",
              "        dataTable['output_type'] = 'display_data';\n",
              "        await google.colab.output.renderOutput(dataTable, element);\n",
              "        const docLink = document.createElement('div');\n",
              "        docLink.innerHTML = docLinkHtml;\n",
              "        element.appendChild(docLink);\n",
              "      }\n",
              "    </script>\n",
              "  </div>\n",
              "\n",
              "\n",
              "<div id=\"df-0b9dc2de-8145-4c1a-b99b-269959ce113f\">\n",
              "  <button class=\"colab-df-quickchart\" onclick=\"quickchart('df-0b9dc2de-8145-4c1a-b99b-269959ce113f')\"\n",
              "            title=\"Suggest charts\"\n",
              "            style=\"display:none;\">\n",
              "\n",
              "<svg xmlns=\"http://www.w3.org/2000/svg\" height=\"24px\"viewBox=\"0 0 24 24\"\n",
              "     width=\"24px\">\n",
              "    <g>\n",
              "        <path d=\"M19 3H5c-1.1 0-2 .9-2 2v14c0 1.1.9 2 2 2h14c1.1 0 2-.9 2-2V5c0-1.1-.9-2-2-2zM9 17H7v-7h2v7zm4 0h-2V7h2v10zm4 0h-2v-4h2v4z\"/>\n",
              "    </g>\n",
              "</svg>\n",
              "  </button>\n",
              "\n",
              "<style>\n",
              "  .colab-df-quickchart {\n",
              "      --bg-color: #E8F0FE;\n",
              "      --fill-color: #1967D2;\n",
              "      --hover-bg-color: #E2EBFA;\n",
              "      --hover-fill-color: #174EA6;\n",
              "      --disabled-fill-color: #AAA;\n",
              "      --disabled-bg-color: #DDD;\n",
              "  }\n",
              "\n",
              "  [theme=dark] .colab-df-quickchart {\n",
              "      --bg-color: #3B4455;\n",
              "      --fill-color: #D2E3FC;\n",
              "      --hover-bg-color: #434B5C;\n",
              "      --hover-fill-color: #FFFFFF;\n",
              "      --disabled-bg-color: #3B4455;\n",
              "      --disabled-fill-color: #666;\n",
              "  }\n",
              "\n",
              "  .colab-df-quickchart {\n",
              "    background-color: var(--bg-color);\n",
              "    border: none;\n",
              "    border-radius: 50%;\n",
              "    cursor: pointer;\n",
              "    display: none;\n",
              "    fill: var(--fill-color);\n",
              "    height: 32px;\n",
              "    padding: 0;\n",
              "    width: 32px;\n",
              "  }\n",
              "\n",
              "  .colab-df-quickchart:hover {\n",
              "    background-color: var(--hover-bg-color);\n",
              "    box-shadow: 0 1px 2px rgba(60, 64, 67, 0.3), 0 1px 3px 1px rgba(60, 64, 67, 0.15);\n",
              "    fill: var(--button-hover-fill-color);\n",
              "  }\n",
              "\n",
              "  .colab-df-quickchart-complete:disabled,\n",
              "  .colab-df-quickchart-complete:disabled:hover {\n",
              "    background-color: var(--disabled-bg-color);\n",
              "    fill: var(--disabled-fill-color);\n",
              "    box-shadow: none;\n",
              "  }\n",
              "\n",
              "  .colab-df-spinner {\n",
              "    border: 2px solid var(--fill-color);\n",
              "    border-color: transparent;\n",
              "    border-bottom-color: var(--fill-color);\n",
              "    animation:\n",
              "      spin 1s steps(1) infinite;\n",
              "  }\n",
              "\n",
              "  @keyframes spin {\n",
              "    0% {\n",
              "      border-color: transparent;\n",
              "      border-bottom-color: var(--fill-color);\n",
              "      border-left-color: var(--fill-color);\n",
              "    }\n",
              "    20% {\n",
              "      border-color: transparent;\n",
              "      border-left-color: var(--fill-color);\n",
              "      border-top-color: var(--fill-color);\n",
              "    }\n",
              "    30% {\n",
              "      border-color: transparent;\n",
              "      border-left-color: var(--fill-color);\n",
              "      border-top-color: var(--fill-color);\n",
              "      border-right-color: var(--fill-color);\n",
              "    }\n",
              "    40% {\n",
              "      border-color: transparent;\n",
              "      border-right-color: var(--fill-color);\n",
              "      border-top-color: var(--fill-color);\n",
              "    }\n",
              "    60% {\n",
              "      border-color: transparent;\n",
              "      border-right-color: var(--fill-color);\n",
              "    }\n",
              "    80% {\n",
              "      border-color: transparent;\n",
              "      border-right-color: var(--fill-color);\n",
              "      border-bottom-color: var(--fill-color);\n",
              "    }\n",
              "    90% {\n",
              "      border-color: transparent;\n",
              "      border-bottom-color: var(--fill-color);\n",
              "    }\n",
              "  }\n",
              "</style>\n",
              "\n",
              "  <script>\n",
              "    async function quickchart(key) {\n",
              "      const quickchartButtonEl =\n",
              "        document.querySelector('#' + key + ' button');\n",
              "      quickchartButtonEl.disabled = true;  // To prevent multiple clicks.\n",
              "      quickchartButtonEl.classList.add('colab-df-spinner');\n",
              "      try {\n",
              "        const charts = await google.colab.kernel.invokeFunction(\n",
              "            'suggestCharts', [key], {});\n",
              "      } catch (error) {\n",
              "        console.error('Error during call to suggestCharts:', error);\n",
              "      }\n",
              "      quickchartButtonEl.classList.remove('colab-df-spinner');\n",
              "      quickchartButtonEl.classList.add('colab-df-quickchart-complete');\n",
              "    }\n",
              "    (() => {\n",
              "      let quickchartButtonEl =\n",
              "        document.querySelector('#df-0b9dc2de-8145-4c1a-b99b-269959ce113f button');\n",
              "      quickchartButtonEl.style.display =\n",
              "        google.colab.kernel.accessAllowed ? 'block' : 'none';\n",
              "    })();\n",
              "  </script>\n",
              "</div>\n",
              "\n",
              "    </div>\n",
              "  </div>\n"
            ],
            "application/vnd.google.colaboratory.intrinsic+json": {
              "type": "dataframe",
              "summary": "{\n  \"name\": \"df[['Applicant_Income','Coapplicant_Income','Loan_Amount']]\",\n  \"rows\": 8,\n  \"fields\": [\n    {\n      \"column\": \"Applicant_Income\",\n      \"properties\": {\n        \"dtype\": \"number\",\n        \"std\": 2752084.005618215,\n        \"min\": 614.0,\n        \"max\": 8100000.0,\n        \"num_unique_values\": 8,\n        \"samples\": [\n          540345.9283387623,\n          381250.0,\n          614.0\n        ],\n        \"semantic_type\": \"\",\n        \"description\": \"\"\n      }\n    },\n    {\n      \"column\": \"Coapplicant_Income\",\n      \"properties\": {\n        \"dtype\": \"number\",\n        \"std\": 1436851.5211070308,\n        \"min\": 0.0,\n        \"max\": 4166700.0,\n        \"num_unique_values\": 7,\n        \"samples\": [\n          614.0,\n          162124.5798027101,\n          229725.0\n        ],\n        \"semantic_type\": \"\",\n        \"description\": \"\"\n      }\n    },\n    {\n      \"column\": \"Loan_Amount\",\n      \"properties\": {\n        \"dtype\": \"number\",\n        \"std\": 22463382.346984398,\n        \"min\": 0.0,\n        \"max\": 70000000.0,\n        \"num_unique_values\": 8,\n        \"samples\": [\n          14141042.345276874,\n          12500000.0,\n          614.0\n        ],\n        \"semantic_type\": \"\",\n        \"description\": \"\"\n      }\n    }\n  ]\n}"
            }
          },
          "metadata": {},
          "execution_count": 55
        }
      ],
      "source": [
        "df[['Applicant_Income','Coapplicant_Income','Loan_Amount']].describe()"
      ]
    },
    {
      "cell_type": "code",
      "execution_count": 56,
      "metadata": {
        "colab": {
          "base_uri": "https://localhost:8080/",
          "height": 472
        },
        "id": "R4BlGs0QgE71",
        "outputId": "1e78773a-39e9-4772-9b9f-69bfbacc691e"
      },
      "outputs": [
        {
          "output_type": "display_data",
          "data": {
            "text/plain": [
              "<Figure size 640x480 with 1 Axes>"
            ],
            "image/png": "[encoded data removed]"
          },
          "metadata": {}
        }
      ],
      "source": [
        "pd.crosstab(df.Gender, df.Married).plot(kind = \"bar\", stacked = True)\n",
        "plt.title('Gender vs Married')\n",
        "plt.xlabel('Gender')\n",
        "plt.ylabel('Frequency')\n",
        "plt.xticks(rotation = 0)\n",
        "plt.show()"
      ]
    },
    {
      "cell_type": "code",
      "execution_count": 57,
      "metadata": {
        "colab": {
          "base_uri": "https://localhost:8080/",
          "height": 472
        },
        "id": "Cmf3hu0vhlFo",
        "outputId": "745d61ab-c9da-436c-f5e7-6854b0842147"
      },
      "outputs": [
        {
          "output_type": "display_data",
          "data": {
            "text/plain": [
              "<Figure size 640x480 with 1 Axes>"
            ],
            "image/png": "[encoded data removed]"
          },
          "metadata": {}
        }
      ],
      "source": [
        "pd.crosstab(df.Self_Employed, df.Credit_History).plot(kind = \"bar\", stacked = True)\n",
        "plt.title('Self Employed vs Credit History')\n",
        "plt.xlabel('Self Employed')\n",
        "plt.ylabel('Frequency')\n",
        "plt.legend([\"Bad Credit\", \"Good Credit\"])\n",
        "plt.xticks(rotation = 0)\n",
        "plt.show()"
      ]
    },
    {
      "cell_type": "code",
      "execution_count": 58,
      "metadata": {
        "colab": {
          "base_uri": "https://localhost:8080/",
          "height": 472
        },
        "id": "0j6Da66UiM3x",
        "outputId": "d369e0e4-4d4e-4014-f87b-8c4622360ea2"
      },
      "outputs": [
        {
          "output_type": "display_data",
          "data": {
            "text/plain": [
              "<Figure size 640x480 with 1 Axes>"
            ],
            "image/png": "[encoded data removed]"
          },
          "metadata": {}
        }
      ],
      "source": [
        "pd.crosstab(df.Area, df.Status).plot(kind = \"bar\", stacked = True)\n",
        "plt.title('Property Area vs Loan Status')\n",
        "plt.xlabel('Property Area')\n",
        "plt.ylabel('Frequency')\n",
        "plt.xticks(rotation = 0)\n",
        "plt.show()"
      ]
    },
    {
      "cell_type": "markdown",
      "metadata": {
        "id": "-V40L6JstQpb"
      },
      "source": [
        "data imputation for categorical"
      ]
    },
    {
      "cell_type": "code",
      "execution_count": 59,
      "metadata": {
        "id": "5DlvUp7kipKr"
      },
      "outputs": [],
      "source": [
        "df['Gender'].fillna(df['Gender'].mode()[0],inplace = True)\n",
        "df['Married'].fillna(df['Married'].mode()[0],inplace = True)\n",
        "df['Dependents'].fillna(df['Dependents'].mode()[0],inplace = True)\n",
        "df['Self_Employed'].fillna(df['Self_Employed'].mode()[0],inplace = True)\n",
        "df['Credit_History'].fillna(df['Credit_History'].mode()[0],inplace = True)\n",
        "df['Term'].fillna(df['Term'].mode()[0],inplace = True)"
      ]
    },
    {
      "cell_type": "code",
      "source": [
        "df.isnull().sum()"
      ],
      "metadata": {
        "colab": {
          "base_uri": "https://localhost:8080/"
        },
        "id": "EMty1sYF0CUk",
        "outputId": "5c033822-a60b-46fa-98a4-ab8aead15715"
      },
      "execution_count": 60,
      "outputs": [
        {
          "output_type": "execute_result",
          "data": {
            "text/plain": [
              "Gender                0\n",
              "Married               0\n",
              "Dependents            0\n",
              "Education             0\n",
              "Self_Employed         0\n",
              "Applicant_Income      0\n",
              "Coapplicant_Income    0\n",
              "Loan_Amount           0\n",
              "Term                  0\n",
              "Credit_History        0\n",
              "Area                  0\n",
              "Status                0\n",
              "dtype: int64"
            ]
          },
          "metadata": {},
          "execution_count": 60
        }
      ]
    },
    {
      "cell_type": "markdown",
      "metadata": {
        "id": "i0qiN00otDia"
      },
      "source": [
        "data imputation for numerical values"
      ]
    },
    {
      "cell_type": "code",
      "execution_count": 61,
      "metadata": {
        "id": "XiT_jcnpqGZx"
      },
      "outputs": [],
      "source": [
        "df['Loan_Amount'].fillna(df['Loan_Amount'].mean(),inplace = True)"
      ]
    },
    {
      "cell_type": "code",
      "execution_count": 62,
      "metadata": {
        "colab": {
          "base_uri": "https://localhost:8080/"
        },
        "id": "gegu1xYCt_aF",
        "outputId": "bab38dec-d9fa-4777-ee01-32a4dedf59e4"
      },
      "outputs": [
        {
          "output_type": "execute_result",
          "data": {
            "text/plain": [
              "Gender                 object\n",
              "Married                object\n",
              "Dependents             object\n",
              "Education              object\n",
              "Self_Employed          object\n",
              "Applicant_Income        int64\n",
              "Coapplicant_Income    float64\n",
              "Loan_Amount             int64\n",
              "Term                  float64\n",
              "Credit_History        float64\n",
              "Area                   object\n",
              "Status                 object\n",
              "dtype: object"
            ]
          },
          "metadata": {},
          "execution_count": 62
        }
      ],
      "source": [
        "df.dtypes"
      ]
    },
    {
      "cell_type": "code",
      "execution_count": 63,
      "metadata": {
        "colab": {
          "base_uri": "https://localhost:8080/",
          "height": 594
        },
        "id": "MCDZIr1juTdh",
        "outputId": "314f17a7-1e24-4994-ee27-b4873bac3074"
      },
      "outputs": [
        {
          "output_type": "execute_result",
          "data": {
            "text/plain": [
              "<Axes: >"
            ]
          },
          "metadata": {},
          "execution_count": 63
        },
        {
          "output_type": "display_data",
          "data": {
            "text/plain": [
              "<Figure size 1000x500 with 2 Axes>"
            ],
            "image/png": "[encoded data removed]"
          },
          "metadata": {}
        }
      ],
      "source": [
        "plt.figure(figsize = (10,5))\n",
        "sns.heatmap(df.corr(), annot = True)\n"
      ]
    },
    {
      "cell_type": "code",
      "execution_count": 64,
      "metadata": {
        "id": "wtN_3TuPunJb",
        "colab": {
          "base_uri": "https://localhost:8080/",
          "height": 142
        },
        "outputId": "54d45652-5603-4dca-e27a-c94227740afd"
      },
      "outputs": [
        {
          "output_type": "execute_result",
          "data": {
            "text/plain": [
              "  Gender Married Dependents Education Self_Employed  Applicant_Income  \\\n",
              "0   Male      No          0  Graduate            No            584900   \n",
              "1   Male     Yes          1  Graduate            No            458300   \n",
              "2   Male     Yes          0  Graduate           Yes            300000   \n",
              "\n",
              "   Coapplicant_Income  Loan_Amount   Term  Credit_History   Area Status  \n",
              "0                 0.0     15000000  360.0             1.0  Urban      Y  \n",
              "1            150800.0     12800000  360.0             1.0  Rural      N  \n",
              "2                 0.0      6600000  360.0             1.0  Urban      Y  "
            ],
            "text/html": [
              "\n",
              "  <div id=\"df-c58254a5-0d92-44e4-bc7b-43dc1a8e5030\" class=\"colab-df-container\">\n",
              "    <div>\n",
              "<style scoped>\n",
              "    .dataframe tbody tr th:only-of-type {\n",
              "        vertical-align: middle;\n",
              "    }\n",
              "\n",
              "    .dataframe tbody tr th {\n",
              "        vertical-align: top;\n",
              "    }\n",
              "\n",
              "    .dataframe thead th {\n",
              "        text-align: right;\n",
              "    }\n",
              "</style>\n",
              "<table border=\"1\" class=\"dataframe\">\n",
              "  <thead>\n",
              "    <tr style=\"text-align: right;\">\n",
              "      <th></th>\n",
              "      <th>Gender</th>\n",
              "      <th>Married</th>\n",
              "      <th>Dependents</th>\n",
              "      <th>Education</th>\n",
              "      <th>Self_Employed</th>\n",
              "      <th>Applicant_Income</th>\n",
              "      <th>Coapplicant_Income</th>\n",
              "      <th>Loan_Amount</th>\n",
              "      <th>Term</th>\n",
              "      <th>Credit_History</th>\n",
              "      <th>Area</th>\n",
              "      <th>Status</th>\n",
              "    </tr>\n",
              "  </thead>\n",
              "  <tbody>\n",
              "    <tr>\n",
              "      <th>0</th>\n",
              "      <td>Male</td>\n",
              "      <td>No</td>\n",
              "      <td>0</td>\n",
              "      <td>Graduate</td>\n",
              "      <td>No</td>\n",
              "      <td>584900</td>\n",
              "      <td>0.0</td>\n",
              "      <td>15000000</td>\n",
              "      <td>360.0</td>\n",
              "      <td>1.0</td>\n",
              "      <td>Urban</td>\n",
              "      <td>Y</td>\n",
              "    </tr>\n",
              "    <tr>\n",
              "      <th>1</th>\n",
              "      <td>Male</td>\n",
              "      <td>Yes</td>\n",
              "      <td>1</td>\n",
              "      <td>Graduate</td>\n",
              "      <td>No</td>\n",
              "      <td>458300</td>\n",
              "      <td>150800.0</td>\n",
              "      <td>12800000</td>\n",
              "      <td>360.0</td>\n",
              "      <td>1.0</td>\n",
              "      <td>Rural</td>\n",
              "      <td>N</td>\n",
              "    </tr>\n",
              "    <tr>\n",
              "      <th>2</th>\n",
              "      <td>Male</td>\n",
              "      <td>Yes</td>\n",
              "      <td>0</td>\n",
              "      <td>Graduate</td>\n",
              "      <td>Yes</td>\n",
              "      <td>300000</td>\n",
              "      <td>0.0</td>\n",
              "      <td>6600000</td>\n",
              "      <td>360.0</td>\n",
              "      <td>1.0</td>\n",
              "      <td>Urban</td>\n",
              "      <td>Y</td>\n",
              "    </tr>\n",
              "  </tbody>\n",
              "</table>\n",
              "</div>\n",
              "    <div class=\"colab-df-buttons\">\n",
              "\n",
              "  <div class=\"colab-df-container\">\n",
              "    <button class=\"colab-df-convert\" onclick=\"convertToInteractive('df-c58254a5-0d92-44e4-bc7b-43dc1a8e5030')\"\n",
              "            title=\"Convert this dataframe to an interactive table.\"\n",
              "            style=\"display:none;\">\n",
              "\n",
              "  <svg xmlns=\"http://www.w3.org/2000/svg\" height=\"24px\" viewBox=\"0 -960 960 960\">\n",
              "    <path d=\"M120-120v-720h720v720H120Zm60-500h600v-160H180v160Zm220 220h160v-160H400v160Zm0 220h160v-160H400v160ZM180-400h160v-160H180v160Zm440 0h160v-160H620v160ZM180-180h160v-160H180v160Zm440 0h160v-160H620v160Z\"/>\n",
              "  </svg>\n",
              "    </button>\n",
              "\n",
              "  <style>\n",
              "    .colab-df-container {\n",
              "      display:flex;\n",
              "      gap: 12px;\n",
              "    }\n",
              "\n",
              "    .colab-df-convert {\n",
              "      background-color: #E8F0FE;\n",
              "      border: none;\n",
              "      border-radius: 50%;\n",
              "      cursor: pointer;\n",
              "      display: none;\n",
              "      fill: #1967D2;\n",
              "      height: 32px;\n",
              "      padding: 0 0 0 0;\n",
              "      width: 32px;\n",
              "    }\n",
              "\n",
              "    .colab-df-convert:hover {\n",
              "      background-color: #E2EBFA;\n",
              "      box-shadow: 0px 1px 2px rgba(60, 64, 67, 0.3), 0px 1px 3px 1px rgba(60, 64, 67, 0.15);\n",
              "      fill: #174EA6;\n",
              "    }\n",
              "\n",
              "    .colab-df-buttons div {\n",
              "      margin-bottom: 4px;\n",
              "    }\n",
              "\n",
              "    [theme=dark] .colab-df-convert {\n",
              "      background-color: #3B4455;\n",
              "      fill: #D2E3FC;\n",
              "    }\n",
              "\n",
              "    [theme=dark] .colab-df-convert:hover {\n",
              "      background-color: #434B5C;\n",
              "      box-shadow: 0px 1px 3px 1px rgba(0, 0, 0, 0.15);\n",
              "      filter: drop-shadow(0px 1px 2px rgba(0, 0, 0, 0.3));\n",
              "      fill: #FFFFFF;\n",
              "    }\n",
              "  </style>\n",
              "\n",
              "    <script>\n",
              "      const buttonEl =\n",
              "        document.querySelector('#df-c58254a5-0d92-44e4-bc7b-43dc1a8e5030 button.colab-df-convert');\n",
              "      buttonEl.style.display =\n",
              "        google.colab.kernel.accessAllowed ? 'block' : 'none';\n",
              "\n",
              "      async function convertToInteractive(key) {\n",
              "        const element = document.querySelector('#df-c58254a5-0d92-44e4-bc7b-43dc1a8e5030');\n",
              "        const dataTable =\n",
              "          await google.colab.kernel.invokeFunction('convertToInteractive',\n",
              "                                                    [key], {});\n",
              "        if (!dataTable) return;\n",
              "\n",
              "        const docLinkHtml = 'Like what you see? Visit the ' +\n",
              "          '<a target=\"_blank\" href=https://colab.research.google.com/notebooks/data_table.ipynb>data table notebook</a>'\n",
              "          + ' to learn more about interactive tables.';\n",
              "        element.innerHTML = '';\n",
              "        dataTable['output_type'] = 'display_data';\n",
              "        await google.colab.output.renderOutput(dataTable, element);\n",
              "        const docLink = document.createElement('div');\n",
              "        docLink.innerHTML = docLinkHtml;\n",
              "        element.appendChild(docLink);\n",
              "      }\n",
              "    </script>\n",
              "  </div>\n",
              "\n",
              "\n",
              "<div id=\"df-e34eef5d-2c1d-41a2-a5da-da05ba0b40c0\">\n",
              "  <button class=\"colab-df-quickchart\" onclick=\"quickchart('df-e34eef5d-2c1d-41a2-a5da-da05ba0b40c0')\"\n",
              "            title=\"Suggest charts\"\n",
              "            style=\"display:none;\">\n",
              "\n",
              "<svg xmlns=\"http://www.w3.org/2000/svg\" height=\"24px\"viewBox=\"0 0 24 24\"\n",
              "     width=\"24px\">\n",
              "    <g>\n",
              "        <path d=\"M19 3H5c-1.1 0-2 .9-2 2v14c0 1.1.9 2 2 2h14c1.1 0 2-.9 2-2V5c0-1.1-.9-2-2-2zM9 17H7v-7h2v7zm4 0h-2V7h2v10zm4 0h-2v-4h2v4z\"/>\n",
              "    </g>\n",
              "</svg>\n",
              "  </button>\n",
              "\n",
              "<style>\n",
              "  .colab-df-quickchart {\n",
              "      --bg-color: #E8F0FE;\n",
              "      --fill-color: #1967D2;\n",
              "      --hover-bg-color: #E2EBFA;\n",
              "      --hover-fill-color: #174EA6;\n",
              "      --disabled-fill-color: #AAA;\n",
              "      --disabled-bg-color: #DDD;\n",
              "  }\n",
              "\n",
              "  [theme=dark] .colab-df-quickchart {\n",
              "      --bg-color: #3B4455;\n",
              "      --fill-color: #D2E3FC;\n",
              "      --hover-bg-color: #434B5C;\n",
              "      --hover-fill-color: #FFFFFF;\n",
              "      --disabled-bg-color: #3B4455;\n",
              "      --disabled-fill-color: #666;\n",
              "  }\n",
              "\n",
              "  .colab-df-quickchart {\n",
              "    background-color: var(--bg-color);\n",
              "    border: none;\n",
              "    border-radius: 50%;\n",
              "    cursor: pointer;\n",
              "    display: none;\n",
              "    fill: var(--fill-color);\n",
              "    height: 32px;\n",
              "    padding: 0;\n",
              "    width: 32px;\n",
              "  }\n",
              "\n",
              "  .colab-df-quickchart:hover {\n",
              "    background-color: var(--hover-bg-color);\n",
              "    box-shadow: 0 1px 2px rgba(60, 64, 67, 0.3), 0 1px 3px 1px rgba(60, 64, 67, 0.15);\n",
              "    fill: var(--button-hover-fill-color);\n",
              "  }\n",
              "\n",
              "  .colab-df-quickchart-complete:disabled,\n",
              "  .colab-df-quickchart-complete:disabled:hover {\n",
              "    background-color: var(--disabled-bg-color);\n",
              "    fill: var(--disabled-fill-color);\n",
              "    box-shadow: none;\n",
              "  }\n",
              "\n",
              "  .colab-df-spinner {\n",
              "    border: 2px solid var(--fill-color);\n",
              "    border-color: transparent;\n",
              "    border-bottom-color: var(--fill-color);\n",
              "    animation:\n",
              "      spin 1s steps(1) infinite;\n",
              "  }\n",
              "\n",
              "  @keyframes spin {\n",
              "    0% {\n",
              "      border-color: transparent;\n",
              "      border-bottom-color: var(--fill-color);\n",
              "      border-left-color: var(--fill-color);\n",
              "    }\n",
              "    20% {\n",
              "      border-color: transparent;\n",
              "      border-left-color: var(--fill-color);\n",
              "      border-top-color: var(--fill-color);\n",
              "    }\n",
              "    30% {\n",
              "      border-color: transparent;\n",
              "      border-left-color: var(--fill-color);\n",
              "      border-top-color: var(--fill-color);\n",
              "      border-right-color: var(--fill-color);\n",
              "    }\n",
              "    40% {\n",
              "      border-color: transparent;\n",
              "      border-right-color: var(--fill-color);\n",
              "      border-top-color: var(--fill-color);\n",
              "    }\n",
              "    60% {\n",
              "      border-color: transparent;\n",
              "      border-right-color: var(--fill-color);\n",
              "    }\n",
              "    80% {\n",
              "      border-color: transparent;\n",
              "      border-right-color: var(--fill-color);\n",
              "      border-bottom-color: var(--fill-color);\n",
              "    }\n",
              "    90% {\n",
              "      border-color: transparent;\n",
              "      border-bottom-color: var(--fill-color);\n",
              "    }\n",
              "  }\n",
              "</style>\n",
              "\n",
              "  <script>\n",
              "    async function quickchart(key) {\n",
              "      const quickchartButtonEl =\n",
              "        document.querySelector('#' + key + ' button');\n",
              "      quickchartButtonEl.disabled = true;  // To prevent multiple clicks.\n",
              "      quickchartButtonEl.classList.add('colab-df-spinner');\n",
              "      try {\n",
              "        const charts = await google.colab.kernel.invokeFunction(\n",
              "            'suggestCharts', [key], {});\n",
              "      } catch (error) {\n",
              "        console.error('Error during call to suggestCharts:', error);\n",
              "      }\n",
              "      quickchartButtonEl.classList.remove('colab-df-spinner');\n",
              "      quickchartButtonEl.classList.add('colab-df-quickchart-complete');\n",
              "    }\n",
              "    (() => {\n",
              "      let quickchartButtonEl =\n",
              "        document.querySelector('#df-e34eef5d-2c1d-41a2-a5da-da05ba0b40c0 button');\n",
              "      quickchartButtonEl.style.display =\n",
              "        google.colab.kernel.accessAllowed ? 'block' : 'none';\n",
              "    })();\n",
              "  </script>\n",
              "</div>\n",
              "\n",
              "    </div>\n",
              "  </div>\n"
            ],
            "application/vnd.google.colaboratory.intrinsic+json": {
              "type": "dataframe",
              "variable_name": "df",
              "summary": "{\n  \"name\": \"df\",\n  \"rows\": 614,\n  \"fields\": [\n    {\n      \"column\": \"Gender\",\n      \"properties\": {\n        \"dtype\": \"category\",\n        \"num_unique_values\": 2,\n        \"samples\": [\n          \"Female\",\n          \"Male\"\n        ],\n        \"semantic_type\": \"\",\n        \"description\": \"\"\n      }\n    },\n    {\n      \"column\": \"Married\",\n      \"properties\": {\n        \"dtype\": \"category\",\n        \"num_unique_values\": 2,\n        \"samples\": [\n          \"Yes\",\n          \"No\"\n        ],\n        \"semantic_type\": \"\",\n        \"description\": \"\"\n      }\n    },\n    {\n      \"column\": \"Dependents\",\n      \"properties\": {\n        \"dtype\": \"category\",\n        \"num_unique_values\": 4,\n        \"samples\": [\n          \"1\",\n          \"3+\"\n        ],\n        \"semantic_type\": \"\",\n        \"description\": \"\"\n      }\n    },\n    {\n      \"column\": \"Education\",\n      \"properties\": {\n        \"dtype\": \"category\",\n        \"num_unique_values\": 2,\n        \"samples\": [\n          \"Not Graduate\",\n          \"Graduate\"\n        ],\n        \"semantic_type\": \"\",\n        \"description\": \"\"\n      }\n    },\n    {\n      \"column\": \"Self_Employed\",\n      \"properties\": {\n        \"dtype\": \"category\",\n        \"num_unique_values\": 2,\n        \"samples\": [\n          \"Yes\",\n          \"No\"\n        ],\n        \"semantic_type\": \"\",\n        \"description\": \"\"\n      }\n    },\n    {\n      \"column\": \"Applicant_Income\",\n      \"properties\": {\n        \"dtype\": \"number\",\n        \"std\": 610904,\n        \"min\": 15000,\n        \"max\": 8100000,\n        \"num_unique_values\": 505,\n        \"samples\": [\n          833300,\n          434200\n        ],\n        \"semantic_type\": \"\",\n        \"description\": \"\"\n      }\n    },\n    {\n      \"column\": \"Coapplicant_Income\",\n      \"properties\": {\n        \"dtype\": \"number\",\n        \"std\": 292624.8369224189,\n        \"min\": 0.0,\n        \"max\": 4166700.0,\n        \"num_unique_values\": 287,\n        \"samples\": [\n          184000.0,\n          204200.0\n        ],\n        \"semantic_type\": \"\",\n        \"description\": \"\"\n      }\n    },\n    {\n      \"column\": \"Loan_Amount\",\n      \"properties\": {\n        \"dtype\": \"number\",\n        \"std\": 8815682,\n        \"min\": 0,\n        \"max\": 70000000,\n        \"num_unique_values\": 204,\n        \"samples\": [\n          12500000,\n          34900000\n        ],\n        \"semantic_type\": \"\",\n        \"description\": \"\"\n      }\n    },\n    {\n      \"column\": \"Term\",\n      \"properties\": {\n        \"dtype\": \"number\",\n        \"std\": 64.42862906767307,\n        \"min\": 12.0,\n        \"max\": 480.0,\n        \"num_unique_values\": 10,\n        \"samples\": [\n          84.0,\n          120.0\n        ],\n        \"semantic_type\": \"\",\n        \"description\": \"\"\n      }\n    },\n    {\n      \"column\": \"Credit_History\",\n      \"properties\": {\n        \"dtype\": \"number\",\n        \"std\": 0.3523386063582998,\n        \"min\": 0.0,\n        \"max\": 1.0,\n        \"num_unique_values\": 2,\n        \"samples\": [\n          0.0,\n          1.0\n        ],\n        \"semantic_type\": \"\",\n        \"description\": \"\"\n      }\n    },\n    {\n      \"column\": \"Area\",\n      \"properties\": {\n        \"dtype\": \"category\",\n        \"num_unique_values\": 3,\n        \"samples\": [\n          \"Urban\",\n          \"Rural\"\n        ],\n        \"semantic_type\": \"\",\n        \"description\": \"\"\n      }\n    },\n    {\n      \"column\": \"Status\",\n      \"properties\": {\n        \"dtype\": \"category\",\n        \"num_unique_values\": 2,\n        \"samples\": [\n          \"N\",\n          \"Y\"\n        ],\n        \"semantic_type\": \"\",\n        \"description\": \"\"\n      }\n    }\n  ]\n}"
            }
          },
          "metadata": {},
          "execution_count": 64
        }
      ],
      "source": [
        "df.head(3)"
      ]
    },
    {
      "cell_type": "code",
      "source": [
        "list(df.select_dtypes(include=object) )"
      ],
      "metadata": {
        "colab": {
          "base_uri": "https://localhost:8080/"
        },
        "id": "0oToRjxN1mpN",
        "outputId": "7310c71e-e13a-4831-eeed-b280c9c0859a"
      },
      "execution_count": 65,
      "outputs": [
        {
          "output_type": "execute_result",
          "data": {
            "text/plain": [
              "['Gender',\n",
              " 'Married',\n",
              " 'Dependents',\n",
              " 'Education',\n",
              " 'Self_Employed',\n",
              " 'Area',\n",
              " 'Status']"
            ]
          },
          "metadata": {},
          "execution_count": 65
        }
      ]
    },
    {
      "cell_type": "code",
      "source": [],
      "metadata": {
        "id": "96YC5fP-2-Ny"
      },
      "execution_count": 65,
      "outputs": []
    },
    {
      "cell_type": "code",
      "source": [
        "from sklearn.preprocessing import LabelEncoder\n",
        "# Function to perform Label Encoding for multiple columns\n",
        "def label_encode_multiple(df, columns):\n",
        "    le = LabelEncoder()\n",
        "    for column in columns:\n",
        "        df[column] = le.fit_transform(df[column])\n",
        "    return df\n",
        "\n",
        "label_encode_columns = ['Gender',\n",
        " 'Married',\n",
        " 'Dependents',\n",
        " 'Education',\n",
        " 'Self_Employed',\n",
        " 'Area',\n",
        " 'Status']\n",
        "df = label_encode_multiple(df, label_encode_columns)"
      ],
      "metadata": {
        "id": "qdfeO-5N295_"
      },
      "execution_count": 66,
      "outputs": []
    },
    {
      "cell_type": "code",
      "source": [
        "df.describe()"
      ],
      "metadata": {
        "colab": {
          "base_uri": "https://localhost:8080/",
          "height": 317
        },
        "id": "6w9mkNSO6v0J",
        "outputId": "7697594e-ea78-42f3-9e12-f96dc709dcfd"
      },
      "execution_count": 67,
      "outputs": [
        {
          "output_type": "execute_result",
          "data": {
            "text/plain": [
              "           Gender     Married  Dependents   Education  Self_Employed  \\\n",
              "count  614.000000  614.000000  614.000000  614.000000     614.000000   \n",
              "mean     0.817590    0.653094    0.744300    0.218241       0.133550   \n",
              "std      0.386497    0.476373    1.009623    0.413389       0.340446   \n",
              "min      0.000000    0.000000    0.000000    0.000000       0.000000   \n",
              "25%      1.000000    0.000000    0.000000    0.000000       0.000000   \n",
              "50%      1.000000    1.000000    0.000000    0.000000       0.000000   \n",
              "75%      1.000000    1.000000    1.000000    0.000000       0.000000   \n",
              "max      1.000000    1.000000    3.000000    1.000000       1.000000   \n",
              "\n",
              "       Applicant_Income  Coapplicant_Income   Loan_Amount        Term  \\\n",
              "count      6.140000e+02        6.140000e+02  6.140000e+02  614.000000   \n",
              "mean       5.403459e+05        1.621246e+05  1.414104e+07  342.410423   \n",
              "std        6.109042e+05        2.926248e+05  8.815682e+06   64.428629   \n",
              "min        1.500000e+04        0.000000e+00  0.000000e+00   12.000000   \n",
              "25%        2.877500e+05        0.000000e+00  9.800000e+06  360.000000   \n",
              "50%        3.812500e+05        1.188500e+05  1.250000e+07  360.000000   \n",
              "75%        5.795000e+05        2.297250e+05  1.647500e+07  360.000000   \n",
              "max        8.100000e+06        4.166700e+06  7.000000e+07  480.000000   \n",
              "\n",
              "       Credit_History        Area      Status  \n",
              "count      614.000000  614.000000  614.000000  \n",
              "mean         0.855049    1.037459    0.687296  \n",
              "std          0.352339    0.787482    0.463973  \n",
              "min          0.000000    0.000000    0.000000  \n",
              "25%          1.000000    0.000000    0.000000  \n",
              "50%          1.000000    1.000000    1.000000  \n",
              "75%          1.000000    2.000000    1.000000  \n",
              "max          1.000000    2.000000    1.000000  "
            ],
            "text/html": [
              "\n",
              "  <div id=\"df-c47008df-7a2d-42fe-aac3-5a41cfb7db9f\" class=\"colab-df-container\">\n",
              "    <div>\n",
              "<style scoped>\n",
              "    .dataframe tbody tr th:only-of-type {\n",
              "        vertical-align: middle;\n",
              "    }\n",
              "\n",
              "    .dataframe tbody tr th {\n",
              "        vertical-align: top;\n",
              "    }\n",
              "\n",
              "    .dataframe thead th {\n",
              "        text-align: right;\n",
              "    }\n",
              "</style>\n",
              "<table border=\"1\" class=\"dataframe\">\n",
              "  <thead>\n",
              "    <tr style=\"text-align: right;\">\n",
              "      <th></th>\n",
              "      <th>Gender</th>\n",
              "      <th>Married</th>\n",
              "      <th>Dependents</th>\n",
              "      <th>Education</th>\n",
              "      <th>Self_Employed</th>\n",
              "      <th>Applicant_Income</th>\n",
              "      <th>Coapplicant_Income</th>\n",
              "      <th>Loan_Amount</th>\n",
              "      <th>Term</th>\n",
              "      <th>Credit_History</th>\n",
              "      <th>Area</th>\n",
              "      <th>Status</th>\n",
              "    </tr>\n",
              "  </thead>\n",
              "  <tbody>\n",
              "    <tr>\n",
              "      <th>count</th>\n",
              "      <td>614.000000</td>\n",
              "      <td>614.000000</td>\n",
              "      <td>614.000000</td>\n",
              "      <td>614.000000</td>\n",
              "      <td>614.000000</td>\n",
              "      <td>6.140000e+02</td>\n",
              "      <td>6.140000e+02</td>\n",
              "      <td>6.140000e+02</td>\n",
              "      <td>614.000000</td>\n",
              "      <td>614.000000</td>\n",
              "      <td>614.000000</td>\n",
              "      <td>614.000000</td>\n",
              "    </tr>\n",
              "    <tr>\n",
              "      <th>mean</th>\n",
              "      <td>0.817590</td>\n",
              "      <td>0.653094</td>\n",
              "      <td>0.744300</td>\n",
              "      <td>0.218241</td>\n",
              "      <td>0.133550</td>\n",
              "      <td>5.403459e+05</td>\n",
              "      <td>1.621246e+05</td>\n",
              "      <td>1.414104e+07</td>\n",
              "      <td>342.410423</td>\n",
              "      <td>0.855049</td>\n",
              "      <td>1.037459</td>\n",
              "      <td>0.687296</td>\n",
              "    </tr>\n",
              "    <tr>\n",
              "      <th>std</th>\n",
              "      <td>0.386497</td>\n",
              "      <td>0.476373</td>\n",
              "      <td>1.009623</td>\n",
              "      <td>0.413389</td>\n",
              "      <td>0.340446</td>\n",
              "      <td>6.109042e+05</td>\n",
              "      <td>2.926248e+05</td>\n",
              "      <td>8.815682e+06</td>\n",
              "      <td>64.428629</td>\n",
              "      <td>0.352339</td>\n",
              "      <td>0.787482</td>\n",
              "      <td>0.463973</td>\n",
              "    </tr>\n",
              "    <tr>\n",
              "      <th>min</th>\n",
              "      <td>0.000000</td>\n",
              "      <td>0.000000</td>\n",
              "      <td>0.000000</td>\n",
              "      <td>0.000000</td>\n",
              "      <td>0.000000</td>\n",
              "      <td>1.500000e+04</td>\n",
              "      <td>0.000000e+00</td>\n",
              "      <td>0.000000e+00</td>\n",
              "      <td>12.000000</td>\n",
              "      <td>0.000000</td>\n",
              "      <td>0.000000</td>\n",
              "      <td>0.000000</td>\n",
              "    </tr>\n",
              "    <tr>\n",
              "      <th>25%</th>\n",
              "      <td>1.000000</td>\n",
              "      <td>0.000000</td>\n",
              "      <td>0.000000</td>\n",
              "      <td>0.000000</td>\n",
              "      <td>0.000000</td>\n",
              "      <td>2.877500e+05</td>\n",
              "      <td>0.000000e+00</td>\n",
              "      <td>9.800000e+06</td>\n",
              "      <td>360.000000</td>\n",
              "      <td>1.000000</td>\n",
              "      <td>0.000000</td>\n",
              "      <td>0.000000</td>\n",
              "    </tr>\n",
              "    <tr>\n",
              "      <th>50%</th>\n",
              "      <td>1.000000</td>\n",
              "      <td>1.000000</td>\n",
              "      <td>0.000000</td>\n",
              "      <td>0.000000</td>\n",
              "      <td>0.000000</td>\n",
              "      <td>3.812500e+05</td>\n",
              "      <td>1.188500e+05</td>\n",
              "      <td>1.250000e+07</td>\n",
              "      <td>360.000000</td>\n",
              "      <td>1.000000</td>\n",
              "      <td>1.000000</td>\n",
              "      <td>1.000000</td>\n",
              "    </tr>\n",
              "    <tr>\n",
              "      <th>75%</th>\n",
              "      <td>1.000000</td>\n",
              "      <td>1.000000</td>\n",
              "      <td>1.000000</td>\n",
              "      <td>0.000000</td>\n",
              "      <td>0.000000</td>\n",
              "      <td>5.795000e+05</td>\n",
              "      <td>2.297250e+05</td>\n",
              "      <td>1.647500e+07</td>\n",
              "      <td>360.000000</td>\n",
              "      <td>1.000000</td>\n",
              "      <td>2.000000</td>\n",
              "      <td>1.000000</td>\n",
              "    </tr>\n",
              "    <tr>\n",
              "      <th>max</th>\n",
              "      <td>1.000000</td>\n",
              "      <td>1.000000</td>\n",
              "      <td>3.000000</td>\n",
              "      <td>1.000000</td>\n",
              "      <td>1.000000</td>\n",
              "      <td>8.100000e+06</td>\n",
              "      <td>4.166700e+06</td>\n",
              "      <td>7.000000e+07</td>\n",
              "      <td>480.000000</td>\n",
              "      <td>1.000000</td>\n",
              "      <td>2.000000</td>\n",
              "      <td>1.000000</td>\n",
              "    </tr>\n",
              "  </tbody>\n",
              "</table>\n",
              "</div>\n",
              "    <div class=\"colab-df-buttons\">\n",
              "\n",
              "  <div class=\"colab-df-container\">\n",
              "    <button class=\"colab-df-convert\" onclick=\"convertToInteractive('df-c47008df-7a2d-42fe-aac3-5a41cfb7db9f')\"\n",
              "            title=\"Convert this dataframe to an interactive table.\"\n",
              "            style=\"display:none;\">\n",
              "\n",
              "  <svg xmlns=\"http://www.w3.org/2000/svg\" height=\"24px\" viewBox=\"0 -960 960 960\">\n",
              "    <path d=\"M120-120v-720h720v720H120Zm60-500h600v-160H180v160Zm220 220h160v-160H400v160Zm0 220h160v-160H400v160ZM180-400h160v-160H180v160Zm440 0h160v-160H620v160ZM180-180h160v-160H180v160Zm440 0h160v-160H620v160Z\"/>\n",
              "  </svg>\n",
              "    </button>\n",
              "\n",
              "  <style>\n",
              "    .colab-df-container {\n",
              "      display:flex;\n",
              "      gap: 12px;\n",
              "    }\n",
              "\n",
              "    .colab-df-convert {\n",
              "      background-color: #E8F0FE;\n",
              "      border: none;\n",
              "      border-radius: 50%;\n",
              "      cursor: pointer;\n",
              "      display: none;\n",
              "      fill: #1967D2;\n",
              "      height: 32px;\n",
              "      padding: 0 0 0 0;\n",
              "      width: 32px;\n",
              "    }\n",
              "\n",
              "    .colab-df-convert:hover {\n",
              "      background-color: #E2EBFA;\n",
              "      box-shadow: 0px 1px 2px rgba(60, 64, 67, 0.3), 0px 1px 3px 1px rgba(60, 64, 67, 0.15);\n",
              "      fill: #174EA6;\n",
              "    }\n",
              "\n",
              "    .colab-df-buttons div {\n",
              "      margin-bottom: 4px;\n",
              "    }\n",
              "\n",
              "    [theme=dark] .colab-df-convert {\n",
              "      background-color: #3B4455;\n",
              "      fill: #D2E3FC;\n",
              "    }\n",
              "\n",
              "    [theme=dark] .colab-df-convert:hover {\n",
              "      background-color: #434B5C;\n",
              "      box-shadow: 0px 1px 3px 1px rgba(0, 0, 0, 0.15);\n",
              "      filter: drop-shadow(0px 1px 2px rgba(0, 0, 0, 0.3));\n",
              "      fill: #FFFFFF;\n",
              "    }\n",
              "  </style>\n",
              "\n",
              "    <script>\n",
              "      const buttonEl =\n",
              "        document.querySelector('#df-c47008df-7a2d-42fe-aac3-5a41cfb7db9f button.colab-df-convert');\n",
              "      buttonEl.style.display =\n",
              "        google.colab.kernel.accessAllowed ? 'block' : 'none';\n",
              "\n",
              "      async function convertToInteractive(key) {\n",
              "        const element = document.querySelector('#df-c47008df-7a2d-42fe-aac3-5a41cfb7db9f');\n",
              "        const dataTable =\n",
              "          await google.colab.kernel.invokeFunction('convertToInteractive',\n",
              "                                                    [key], {});\n",
              "        if (!dataTable) return;\n",
              "\n",
              "        const docLinkHtml = 'Like what you see? Visit the ' +\n",
              "          '<a target=\"_blank\" href=https://colab.research.google.com/notebooks/data_table.ipynb>data table notebook</a>'\n",
              "          + ' to learn more about interactive tables.';\n",
              "        element.innerHTML = '';\n",
              "        dataTable['output_type'] = 'display_data';\n",
              "        await google.colab.output.renderOutput(dataTable, element);\n",
              "        const docLink = document.createElement('div');\n",
              "        docLink.innerHTML = docLinkHtml;\n",
              "        element.appendChild(docLink);\n",
              "      }\n",
              "    </script>\n",
              "  </div>\n",
              "\n",
              "\n",
              "<div id=\"df-0155d38d-0471-4695-92fe-c6221a2ed20e\">\n",
              "  <button class=\"colab-df-quickchart\" onclick=\"quickchart('df-0155d38d-0471-4695-92fe-c6221a2ed20e')\"\n",
              "            title=\"Suggest charts\"\n",
              "            style=\"display:none;\">\n",
              "\n",
              "<svg xmlns=\"http://www.w3.org/2000/svg\" height=\"24px\"viewBox=\"0 0 24 24\"\n",
              "     width=\"24px\">\n",
              "    <g>\n",
              "        <path d=\"M19 3H5c-1.1 0-2 .9-2 2v14c0 1.1.9 2 2 2h14c1.1 0 2-.9 2-2V5c0-1.1-.9-2-2-2zM9 17H7v-7h2v7zm4 0h-2V7h2v10zm4 0h-2v-4h2v4z\"/>\n",
              "    </g>\n",
              "</svg>\n",
              "  </button>\n",
              "\n",
              "<style>\n",
              "  .colab-df-quickchart {\n",
              "      --bg-color: #E8F0FE;\n",
              "      --fill-color: #1967D2;\n",
              "      --hover-bg-color: #E2EBFA;\n",
              "      --hover-fill-color: #174EA6;\n",
              "      --disabled-fill-color: #AAA;\n",
              "      --disabled-bg-color: #DDD;\n",
              "  }\n",
              "\n",
              "  [theme=dark] .colab-df-quickchart {\n",
              "      --bg-color: #3B4455;\n",
              "      --fill-color: #D2E3FC;\n",
              "      --hover-bg-color: #434B5C;\n",
              "      --hover-fill-color: #FFFFFF;\n",
              "      --disabled-bg-color: #3B4455;\n",
              "      --disabled-fill-color: #666;\n",
              "  }\n",
              "\n",
              "  .colab-df-quickchart {\n",
              "    background-color: var(--bg-color);\n",
              "    border: none;\n",
              "    border-radius: 50%;\n",
              "    cursor: pointer;\n",
              "    display: none;\n",
              "    fill: var(--fill-color);\n",
              "    height: 32px;\n",
              "    padding: 0;\n",
              "    width: 32px;\n",
              "  }\n",
              "\n",
              "  .colab-df-quickchart:hover {\n",
              "    background-color: var(--hover-bg-color);\n",
              "    box-shadow: 0 1px 2px rgba(60, 64, 67, 0.3), 0 1px 3px 1px rgba(60, 64, 67, 0.15);\n",
              "    fill: var(--button-hover-fill-color);\n",
              "  }\n",
              "\n",
              "  .colab-df-quickchart-complete:disabled,\n",
              "  .colab-df-quickchart-complete:disabled:hover {\n",
              "    background-color: var(--disabled-bg-color);\n",
              "    fill: var(--disabled-fill-color);\n",
              "    box-shadow: none;\n",
              "  }\n",
              "\n",
              "  .colab-df-spinner {\n",
              "    border: 2px solid var(--fill-color);\n",
              "    border-color: transparent;\n",
              "    border-bottom-color: var(--fill-color);\n",
              "    animation:\n",
              "      spin 1s steps(1) infinite;\n",
              "  }\n",
              "\n",
              "  @keyframes spin {\n",
              "    0% {\n",
              "      border-color: transparent;\n",
              "      border-bottom-color: var(--fill-color);\n",
              "      border-left-color: var(--fill-color);\n",
              "    }\n",
              "    20% {\n",
              "      border-color: transparent;\n",
              "      border-left-color: var(--fill-color);\n",
              "      border-top-color: var(--fill-color);\n",
              "    }\n",
              "    30% {\n",
              "      border-color: transparent;\n",
              "      border-left-color: var(--fill-color);\n",
              "      border-top-color: var(--fill-color);\n",
              "      border-right-color: var(--fill-color);\n",
              "    }\n",
              "    40% {\n",
              "      border-color: transparent;\n",
              "      border-right-color: var(--fill-color);\n",
              "      border-top-color: var(--fill-color);\n",
              "    }\n",
              "    60% {\n",
              "      border-color: transparent;\n",
              "      border-right-color: var(--fill-color);\n",
              "    }\n",
              "    80% {\n",
              "      border-color: transparent;\n",
              "      border-right-color: var(--fill-color);\n",
              "      border-bottom-color: var(--fill-color);\n",
              "    }\n",
              "    90% {\n",
              "      border-color: transparent;\n",
              "      border-bottom-color: var(--fill-color);\n",
              "    }\n",
              "  }\n",
              "</style>\n",
              "\n",
              "  <script>\n",
              "    async function quickchart(key) {\n",
              "      const quickchartButtonEl =\n",
              "        document.querySelector('#' + key + ' button');\n",
              "      quickchartButtonEl.disabled = true;  // To prevent multiple clicks.\n",
              "      quickchartButtonEl.classList.add('colab-df-spinner');\n",
              "      try {\n",
              "        const charts = await google.colab.kernel.invokeFunction(\n",
              "            'suggestCharts', [key], {});\n",
              "      } catch (error) {\n",
              "        console.error('Error during call to suggestCharts:', error);\n",
              "      }\n",
              "      quickchartButtonEl.classList.remove('colab-df-spinner');\n",
              "      quickchartButtonEl.classList.add('colab-df-quickchart-complete');\n",
              "    }\n",
              "    (() => {\n",
              "      let quickchartButtonEl =\n",
              "        document.querySelector('#df-0155d38d-0471-4695-92fe-c6221a2ed20e button');\n",
              "      quickchartButtonEl.style.display =\n",
              "        google.colab.kernel.accessAllowed ? 'block' : 'none';\n",
              "    })();\n",
              "  </script>\n",
              "</div>\n",
              "\n",
              "    </div>\n",
              "  </div>\n"
            ],
            "application/vnd.google.colaboratory.intrinsic+json": {
              "type": "dataframe",
              "summary": "{\n  \"name\": \"df\",\n  \"rows\": 8,\n  \"fields\": [\n    {\n      \"column\": \"Gender\",\n      \"properties\": {\n        \"dtype\": \"number\",\n        \"std\": 216.81924834975547,\n        \"min\": 0.0,\n        \"max\": 614.0,\n        \"num_unique_values\": 5,\n        \"samples\": [\n          0.8175895765472313,\n          1.0,\n          0.3864972846176104\n        ],\n        \"semantic_type\": \"\",\n        \"description\": \"\"\n      }\n    },\n    {\n      \"column\": \"Married\",\n      \"properties\": {\n        \"dtype\": \"number\",\n        \"std\": 216.87361315275993,\n        \"min\": 0.0,\n        \"max\": 614.0,\n        \"num_unique_values\": 5,\n        \"samples\": [\n          0.6530944625407166,\n          1.0,\n          0.47637346810166864\n        ],\n        \"semantic_type\": \"\",\n        \"description\": \"\"\n      }\n    },\n    {\n      \"column\": \"Dependents\",\n      \"properties\": {\n        \"dtype\": \"number\",\n        \"std\": 216.7934196671466,\n        \"min\": 0.0,\n        \"max\": 614.0,\n        \"num_unique_values\": 6,\n        \"samples\": [\n          614.0,\n          0.744299674267101,\n          3.0\n        ],\n        \"semantic_type\": \"\",\n        \"description\": \"\"\n      }\n    },\n    {\n      \"column\": \"Education\",\n      \"properties\": {\n        \"dtype\": \"number\",\n        \"std\": 216.9996479845187,\n        \"min\": 0.0,\n        \"max\": 614.0,\n        \"num_unique_values\": 5,\n        \"samples\": [\n          0.2182410423452769,\n          1.0,\n          0.4133886943339805\n        ],\n        \"semantic_type\": \"\",\n        \"description\": \"\"\n      }\n    },\n    {\n      \"column\": \"Self_Employed\",\n      \"properties\": {\n        \"dtype\": \"number\",\n        \"std\": 217.00760476633877,\n        \"min\": 0.0,\n        \"max\": 614.0,\n        \"num_unique_values\": 5,\n        \"samples\": [\n          0.13355048859934854,\n          1.0,\n          0.3404460655491334\n        ],\n        \"semantic_type\": \"\",\n        \"description\": \"\"\n      }\n    },\n    {\n      \"column\": \"Applicant_Income\",\n      \"properties\": {\n        \"dtype\": \"number\",\n        \"std\": 2752084.005618215,\n        \"min\": 614.0,\n        \"max\": 8100000.0,\n        \"num_unique_values\": 8,\n        \"samples\": [\n          540345.9283387623,\n          381250.0,\n          614.0\n        ],\n        \"semantic_type\": \"\",\n        \"description\": \"\"\n      }\n    },\n    {\n      \"column\": \"Coapplicant_Income\",\n      \"properties\": {\n        \"dtype\": \"number\",\n        \"std\": 1436851.5211070308,\n        \"min\": 0.0,\n        \"max\": 4166700.0,\n        \"num_unique_values\": 7,\n        \"samples\": [\n          614.0,\n          162124.5798027101,\n          229725.0\n        ],\n        \"semantic_type\": \"\",\n        \"description\": \"\"\n      }\n    },\n    {\n      \"column\": \"Loan_Amount\",\n      \"properties\": {\n        \"dtype\": \"number\",\n        \"std\": 22463382.346984398,\n        \"min\": 0.0,\n        \"max\": 70000000.0,\n        \"num_unique_values\": 8,\n        \"samples\": [\n          14141042.345276874,\n          12500000.0,\n          614.0\n        ],\n        \"semantic_type\": \"\",\n        \"description\": \"\"\n      }\n    },\n    {\n      \"column\": \"Term\",\n      \"properties\": {\n        \"dtype\": \"number\",\n        \"std\": 199.06357645531108,\n        \"min\": 12.0,\n        \"max\": 614.0,\n        \"num_unique_values\": 6,\n        \"samples\": [\n          614.0,\n          342.4104234527687,\n          480.0\n        ],\n        \"semantic_type\": \"\",\n        \"description\": \"\"\n      }\n    },\n    {\n      \"column\": \"Credit_History\",\n      \"properties\": {\n        \"dtype\": \"number\",\n        \"std\": 216.81909235398544,\n        \"min\": 0.0,\n        \"max\": 614.0,\n        \"num_unique_values\": 5,\n        \"samples\": [\n          0.8550488599348535,\n          1.0,\n          0.3523386063582998\n        ],\n        \"semantic_type\": \"\",\n        \"description\": \"\"\n      }\n    },\n    {\n      \"column\": \"Area\",\n      \"properties\": {\n        \"dtype\": \"number\",\n        \"std\": 216.73840238518636,\n        \"min\": 0.0,\n        \"max\": 614.0,\n        \"num_unique_values\": 6,\n        \"samples\": [\n          614.0,\n          1.0374592833876222,\n          2.0\n        ],\n        \"semantic_type\": \"\",\n        \"description\": \"\"\n      }\n    },\n    {\n      \"column\": \"Status\",\n      \"properties\": {\n        \"dtype\": \"number\",\n        \"std\": 216.87251479346898,\n        \"min\": 0.0,\n        \"max\": 614.0,\n        \"num_unique_values\": 5,\n        \"samples\": [\n          0.6872964169381107,\n          1.0,\n          0.46397268871800085\n        ],\n        \"semantic_type\": \"\",\n        \"description\": \"\"\n      }\n    }\n  ]\n}"
            }
          },
          "metadata": {},
          "execution_count": 67
        }
      ]
    },
    {
      "cell_type": "code",
      "source": [
        "\n",
        "from sklearn.model_selection import train_test_split\n",
        "from sklearn.preprocessing import StandardScaler\n",
        "from sklearn.ensemble import RandomForestClassifier\n",
        "from sklearn.metrics import accuracy_score, classification_report, confusion_matrix\n",
        "\n",
        "# Define X (features) and y (target)\n",
        "X = df.drop(columns=['Loan_Amount'], axis=1)\n",
        "y = df['Loan_Amount']\n",
        "\n",
        "# Splitting data into train and test sets\n",
        "X_train, X_test, y_train, y_test = train_test_split(X, y, test_size=0.2, random_state=42)\n",
        "\n",
        "# Continue with the rest of your code...\n",
        "\n",
        "\n",
        "# Assuming you have already defined X and y\n",
        "# Splitting data into train and test sets\n",
        "X_train, X_test, y_train, y_test = train_test_split(X, y, test_size=0.2, random_state=42)"
      ],
      "metadata": {
        "id": "0swtHgQ3-qvl"
      },
      "execution_count": 68,
      "outputs": []
    },
    {
      "cell_type": "code",
      "source": [
        "from sklearn.model_selection import train_test_split\n",
        "\n",
        "from imblearn.over_sampling import SMOTE\n",
        "from sklearn.datasets import make_classification\n",
        "from collections import Counter\n",
        "\n",
        "# Generate an imbalanced dataset\n",
        "X, y = make_classification(n_classes=2, class_sep=2,\n",
        "                            weights=[0.1, 0.9], n_informative=3,\n",
        "                            n_redundant=1, flip_y=0, n_features=20,\n",
        "                            n_clusters_per_class=1, n_samples=1000,\n",
        "                            random_state=10)\n",
        "\n",
        "print('Original dataset shape %s' % Counter(y))\n",
        "\n",
        "# Apply SMOTE to balance the dataset\n",
        "sm = SMOTE(random_state=42)\n",
        "X_res, y_res = sm.fit_resample(X, y)\n",
        "\n",
        "print('Resampled dataset shape %s' % Counter(y_res))\n"
      ],
      "metadata": {
        "colab": {
          "base_uri": "https://localhost:8080/"
        },
        "id": "9K61i-Ez-qqf",
        "outputId": "f0361288-ea63-48ea-89ee-0f92fc89115b"
      },
      "execution_count": 69,
      "outputs": [
        {
          "output_type": "stream",
          "name": "stdout",
          "text": [
            "Original dataset shape Counter({1: 900, 0: 100})\n",
            "Resampled dataset shape Counter({0: 900, 1: 900})\n"
          ]
        }
      ]
    },
    {
      "cell_type": "code",
      "source": [
        "# Importing MinMaxScaler\n",
        "from sklearn.preprocessing import MinMaxScaler\n",
        "\n",
        "# Initializing MinMaxScaler\n",
        "scaler = MinMaxScaler()\n",
        "\n",
        "# Fit the scaler to the data\n",
        "scaler.fit(X_train)\n",
        "\n",
        "# Transform the data using the scaler\n",
        "X_train_scaled = scaler.transform(X_train)\n",
        "X_test_scaled = scaler.transform(X_test)\n"
      ],
      "metadata": {
        "id": "J_vsAcOJ-qlT"
      },
      "execution_count": 70,
      "outputs": []
    },
    {
      "cell_type": "code",
      "source": [
        "from imblearn.over_sampling import SMOTE\n",
        "from sklearn.model_selection import train_test_split\n",
        "from sklearn.datasets import make_classification\n",
        "\n",
        "# create an imbalanced dataset\n",
        "X, y = make_classification(n_classes=2, class_sep=2,\n",
        "                           weights=[0.9, 0.1], n_informative=3,\n",
        "                           n_redundant=1, flip_y=0, n_features=20,\n",
        "                           n_clusters_per_class=1, n_samples=1000,\n",
        "                           random_state=10)\n",
        "\n",
        "# split the dataset into training and testing sets\n",
        "X_train, X_test, y_train, y_test = train_test_split(X, y, test_size=0.3, random_state=10)\n",
        "\n",
        "# apply SMOTE to balance the dataset\n",
        "sm = SMOTE(random_state=42)\n",
        "X_train_res, y_train_res = sm.fit_resample(X_train, y_train)\n",
        "\n",
        "# print the number of samples in each class before and after balancing\n",
        "print(\"Before balancing:\", len(y_train), \"ones:\", sum(y_train==1), \"zeros:\", sum(y_train==0))\n",
        "print(\"After balancing:\", len(y_train_res), \"ones:\", sum(y_train_res==1), \"zeros:\", sum(y_train_res==0))"
      ],
      "metadata": {
        "colab": {
          "base_uri": "https://localhost:8080/"
        },
        "id": "GbKBn0MM-qhW",
        "outputId": "8ae41540-fe8f-4005-87be-ff31d66cbf5b"
      },
      "execution_count": 71,
      "outputs": [
        {
          "output_type": "stream",
          "name": "stdout",
          "text": [
            "Before balancing: 700 ones: 68 zeros: 632\n",
            "After balancing: 1264 ones: 632 zeros: 632\n"
          ]
        }
      ]
    },
    {
      "cell_type": "code",
      "source": [
        "from sklearn.svm import SVC\n",
        "from sklearn.metrics import accuracy_score, classification_report, confusion_matrix\n",
        "from imblearn.over_sampling import SMOTE\n",
        "from sklearn.model_selection import train_test_split\n",
        "\n",
        "# Create an imbalanced dataset\n",
        "X, y = make_classification(n_classes=2, class_sep=2,\n",
        "                           weights=[0.9, 0.1], n_informative=3,\n",
        "                           n_redundant=1, flip_y=0, n_features=20,\n",
        "                           n_clusters_per_class=1, n_samples=1000,\n",
        "                           random_state=10)\n",
        "\n",
        "# Split the dataset into training and testing sets\n",
        "X_train, X_test, y_train, y_test = train_test_split(X, y, test_size=0.3, random_state=10)\n",
        "\n",
        "# Apply SMOTE to balance the dataset\n",
        "sm = SMOTE(random_state=42)\n",
        "X_train_res, y_train_res = sm.fit_resample(X_train, y_train)\n",
        "\n",
        "# Initialize SVM classifier\n",
        "svm_classifier = SVC(kernel='rbf', random_state=42)\n",
        "\n",
        "# Train the model\n",
        "svm_classifier.fit(X_train_res, y_train_res)\n",
        "\n",
        "# Predict on the test set\n",
        "y_pred_svm = svm_classifier.predict(X_test)\n",
        "\n",
        "# Evaluate the model\n",
        "accuracy_svm = accuracy_score(y_test, y_pred_svm)\n",
        "print(\"SVM Accuracy:\", accuracy_svm)\n",
        "\n",
        "# Generate classification report for SVM\n",
        "print(\"SVM Classification Report:\")\n",
        "print(classification_report(y_test, y_pred_svm))\n",
        "\n",
        "# Generate confusion matrix for SVM\n",
        "print(\"SVM Confusion Matrix:\")\n",
        "print(confusion_matrix(y_test, y_pred_svm))\n"
      ],
      "metadata": {
        "colab": {
          "base_uri": "https://localhost:8080/"
        },
        "id": "5ucq-Dug-qTB",
        "outputId": "b0af5ccf-302d-41de-ad00-68656ea4a125"
      },
      "execution_count": 72,
      "outputs": [
        {
          "output_type": "stream",
          "name": "stdout",
          "text": [
            "SVM Accuracy: 0.9933333333333333\n",
            "SVM Classification Report:\n",
            "              precision    recall  f1-score   support\n",
            "\n",
            "           0       0.99      1.00      1.00       268\n",
            "           1       1.00      0.94      0.97        32\n",
            "\n",
            "    accuracy                           0.99       300\n",
            "   macro avg       1.00      0.97      0.98       300\n",
            "weighted avg       0.99      0.99      0.99       300\n",
            "\n",
            "SVM Confusion Matrix:\n",
            "[[268   0]\n",
            " [  2  30]]\n"
          ]
        }
      ]
    },
    {
      "cell_type": "code",
      "source": [
        "import pickle\n",
        "\n",
        "# Save the trained model as a pickle string\n",
        "saved_model = pickle.dumps(svm_classifier)\n",
        "\n",
        "# Save the model to disk\n",
        "with open('svm_classifier.pkl', 'wb') as file:\n",
        "    pickle.dump(svm_classifier, file)\n"
      ],
      "metadata": {
        "id": "-NLTXkNlTMt3"
      },
      "execution_count": 73,
      "outputs": []
    },
    {
      "cell_type": "code",
      "source": [
        "# prompt: import pickle\n",
        "# # Save the trained model as a pickle string\n",
        "# saved_model = pickle.dumps(svm_classifier)\n",
        "# # Save the model to disk\n",
        "# with open('svm_classifier.pkl', 'wb') as file:\n",
        "#     pickle.dump(svm_classifier, file)\n",
        "# write code to download the pickle file\n",
        "\n",
        "from google.colab import files\n",
        "files.download('svm_classifier.pkl')\n"
      ],
      "metadata": {
        "colab": {
          "base_uri": "https://localhost:8080/",
          "height": 17
        },
        "id": "0S08xqqjPHIT",
        "outputId": "7400746b-a147-493e-e01b-fad3cd29b4d2"
      },
      "execution_count": 74,
      "outputs": [
        {
          "output_type": "display_data",
          "data": {
            "text/plain": [
              "<IPython.core.display.Javascript object>"
            ],
            "application/javascript": [
              "\n",
              "    async function download(id, filename, size) {\n",
              "      if (!google.colab.kernel.accessAllowed) {\n",
              "        return;\n",
              "      }\n",
              "      const div = document.createElement('div');\n",
              "      const label = document.createElement('label');\n",
              "      label.textContent = `Downloading \"${filename}\": `;\n",
              "      div.appendChild(label);\n",
              "      const progress = document.createElement('progress');\n",
              "      progress.max = size;\n",
              "      div.appendChild(progress);\n",
              "      document.body.appendChild(div);\n",
              "\n",
              "      const buffers = [];\n",
              "      let downloaded = 0;\n",
              "\n",
              "      const channel = await google.colab.kernel.comms.open(id);\n",
              "      // Send a message to notify the kernel that we're ready.\n",
              "      channel.send({})\n",
              "\n",
              "      for await (const message of channel.messages) {\n",
              "        // Send a message to notify the kernel that we're ready.\n",
              "        channel.send({})\n",
              "        if (message.buffers) {\n",
              "          for (const buffer of message.buffers) {\n",
              "            buffers.push(buffer);\n",
              "            downloaded += buffer.byteLength;\n",
              "            progress.value = downloaded;\n",
              "          }\n",
              "        }\n",
              "      }\n",
              "      const blob = new Blob(buffers, {type: 'application/binary'});\n",
              "      const a = document.createElement('a');\n",
              "      a.href = window.URL.createObjectURL(blob);\n",
              "      a.download = filename;\n",
              "      div.appendChild(a);\n",
              "      a.click();\n",
              "      div.remove();\n",
              "    }\n",
              "  "
            ]
          },
          "metadata": {}
        },
        {
          "output_type": "display_data",
          "data": {
            "text/plain": [
              "<IPython.core.display.Javascript object>"
            ],
            "application/javascript": [
              "download(\"download_4d22d223-ef44-4b25-9986-1825f1b745e8\", \"svm_classifier.pkl\", 17608)"
            ]
          },
          "metadata": {}
        }
      ]
    }
  ],
  "metadata": {
    "colab": {
      "provenance": []
    },
    "kernelspec": {
      "display_name": "Python 3",
      "name": "python3"
    },
    "language_info": {
      "name": "python"
    }
  },
  "nbformat": 4,
  "nbformat_minor": 0
}